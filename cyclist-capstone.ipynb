{
 "cells": [
  {
   "cell_type": "markdown",
   "id": "d0154b4d",
   "metadata": {
    "papermill": {
     "duration": 0.012742,
     "end_time": "2022-06-29T02:47:06.866948",
     "exception": false,
     "start_time": "2022-06-29T02:47:06.854206",
     "status": "completed"
    },
    "tags": []
   },
   "source": [
    "# Cyclist R Markdown\n",
    "This is my markdown for the Cyclist capstone, it is used to show my work and explain my thoughts as I work through my data analysis. My full presentation and action report is  available on my website"
   ]
  },
  {
   "cell_type": "markdown",
   "id": "bbdebba4",
   "metadata": {
    "papermill": {
     "duration": 0.010686,
     "end_time": "2022-06-29T02:47:06.888377",
     "exception": false,
     "start_time": "2022-06-29T02:47:06.877691",
     "status": "completed"
    },
    "tags": []
   },
   "source": [
    "### Process Data\n",
    "\n",
    "##### Load Libraries "
   ]
  },
  {
   "cell_type": "code",
   "execution_count": 1,
   "id": "a21f03af",
   "metadata": {
    "_execution_state": "idle",
    "_uuid": "051d70d956493feee0c6d64651c6a088724dca2a",
    "execution": {
     "iopub.execute_input": "2022-06-29T02:47:06.913704Z",
     "iopub.status.busy": "2022-06-29T02:47:06.911586Z",
     "iopub.status.idle": "2022-06-29T02:47:08.468282Z",
     "shell.execute_reply": "2022-06-29T02:47:08.466218Z"
    },
    "papermill": {
     "duration": 1.572893,
     "end_time": "2022-06-29T02:47:08.471609",
     "exception": false,
     "start_time": "2022-06-29T02:47:06.898716",
     "status": "completed"
    },
    "tags": []
   },
   "outputs": [
    {
     "name": "stderr",
     "output_type": "stream",
     "text": [
      "── \u001b[1mAttaching packages\u001b[22m ─────────────────────────────────────── tidyverse 1.3.1 ──\n",
      "\n",
      "\u001b[32m✔\u001b[39m \u001b[34mggplot2\u001b[39m 3.3.6     \u001b[32m✔\u001b[39m \u001b[34mpurrr  \u001b[39m 0.3.4\n",
      "\u001b[32m✔\u001b[39m \u001b[34mtibble \u001b[39m 3.1.7     \u001b[32m✔\u001b[39m \u001b[34mdplyr  \u001b[39m 1.0.9\n",
      "\u001b[32m✔\u001b[39m \u001b[34mtidyr  \u001b[39m 1.2.0     \u001b[32m✔\u001b[39m \u001b[34mstringr\u001b[39m 1.4.0\n",
      "\u001b[32m✔\u001b[39m \u001b[34mreadr  \u001b[39m 2.1.2     \u001b[32m✔\u001b[39m \u001b[34mforcats\u001b[39m 0.5.1\n",
      "\n",
      "── \u001b[1mConflicts\u001b[22m ────────────────────────────────────────── tidyverse_conflicts() ──\n",
      "\u001b[31m✖\u001b[39m \u001b[34mdplyr\u001b[39m::\u001b[32mfilter()\u001b[39m masks \u001b[34mstats\u001b[39m::filter()\n",
      "\u001b[31m✖\u001b[39m \u001b[34mdplyr\u001b[39m::\u001b[32mlag()\u001b[39m    masks \u001b[34mstats\u001b[39m::lag()\n",
      "\n",
      "\n",
      "Attaching package: ‘lubridate’\n",
      "\n",
      "\n",
      "The following objects are masked from ‘package:base’:\n",
      "\n",
      "    date, intersect, setdiff, union\n",
      "\n",
      "\n",
      "\n",
      "Attaching package: ‘janitor’\n",
      "\n",
      "\n",
      "The following objects are masked from ‘package:stats’:\n",
      "\n",
      "    chisq.test, fisher.test\n",
      "\n",
      "\n"
     ]
    }
   ],
   "source": [
    "defaultW <- getOption(\"warn\") \n",
    "\n",
    "options(warn = -1) \n",
    "\n",
    "library(tidyverse)\n",
    "library(lubridate)\n",
    "library(skimr)\n",
    "library(janitor)\n",
    "library(dplyr)\n",
    "\n",
    "options(warn = defaultW)\n"
   ]
  },
  {
   "cell_type": "markdown",
   "id": "67df65b7",
   "metadata": {
    "papermill": {
     "duration": 0.010817,
     "end_time": "2022-06-29T02:47:08.493398",
     "exception": false,
     "start_time": "2022-06-29T02:47:08.482581",
     "status": "completed"
    },
    "tags": []
   },
   "source": [
    "##### Load Data"
   ]
  },
  {
   "cell_type": "code",
   "execution_count": 2,
   "id": "c8cc84b4",
   "metadata": {
    "execution": {
     "iopub.execute_input": "2022-06-29T02:47:08.551404Z",
     "iopub.status.busy": "2022-06-29T02:47:08.517896Z",
     "iopub.status.idle": "2022-06-29T02:47:46.966821Z",
     "shell.execute_reply": "2022-06-29T02:47:46.964888Z"
    },
    "papermill": {
     "duration": 38.465438,
     "end_time": "2022-06-29T02:47:46.970312",
     "exception": false,
     "start_time": "2022-06-29T02:47:08.504874",
     "status": "completed"
    },
    "tags": []
   },
   "outputs": [
    {
     "name": "stderr",
     "output_type": "stream",
     "text": [
      "\u001b[1mRows: \u001b[22m\u001b[34m103770\u001b[39m \u001b[1mColumns: \u001b[22m\u001b[34m13\u001b[39m\n",
      "\u001b[36m──\u001b[39m \u001b[1mColumn specification\u001b[22m \u001b[36m────────────────────────────────────────────────────────\u001b[39m\n",
      "\u001b[1mDelimiter:\u001b[22m \",\"\n",
      "\u001b[31mchr\u001b[39m  (7): ride_id, rideable_type, start_station_name, start_station_id, end_...\n",
      "\u001b[32mdbl\u001b[39m  (4): start_lat, start_lng, end_lat, end_lng\n",
      "\u001b[34mdttm\u001b[39m (2): started_at, ended_at\n",
      "\n",
      "\u001b[36mℹ\u001b[39m Use `spec()` to retrieve the full column specification for this data.\n",
      "\u001b[36mℹ\u001b[39m Specify the column types or set `show_col_types = FALSE` to quiet this message.\n",
      "\u001b[1mRows: \u001b[22m\u001b[34m115609\u001b[39m \u001b[1mColumns: \u001b[22m\u001b[34m13\u001b[39m\n",
      "\u001b[36m──\u001b[39m \u001b[1mColumn specification\u001b[22m \u001b[36m────────────────────────────────────────────────────────\u001b[39m\n",
      "\u001b[1mDelimiter:\u001b[22m \",\"\n",
      "\u001b[31mchr\u001b[39m  (7): ride_id, rideable_type, start_station_name, start_station_id, end_...\n",
      "\u001b[32mdbl\u001b[39m  (4): start_lat, start_lng, end_lat, end_lng\n",
      "\u001b[34mdttm\u001b[39m (2): started_at, ended_at\n",
      "\n",
      "\u001b[36mℹ\u001b[39m Use `spec()` to retrieve the full column specification for this data.\n",
      "\u001b[36mℹ\u001b[39m Specify the column types or set `show_col_types = FALSE` to quiet this message.\n",
      "\u001b[1mRows: \u001b[22m\u001b[34m284042\u001b[39m \u001b[1mColumns: \u001b[22m\u001b[34m13\u001b[39m\n",
      "\u001b[36m──\u001b[39m \u001b[1mColumn specification\u001b[22m \u001b[36m────────────────────────────────────────────────────────\u001b[39m\n",
      "\u001b[1mDelimiter:\u001b[22m \",\"\n",
      "\u001b[31mchr\u001b[39m  (7): ride_id, rideable_type, start_station_name, start_station_id, end_...\n",
      "\u001b[32mdbl\u001b[39m  (4): start_lat, start_lng, end_lat, end_lng\n",
      "\u001b[34mdttm\u001b[39m (2): started_at, ended_at\n",
      "\n",
      "\u001b[36mℹ\u001b[39m Use `spec()` to retrieve the full column specification for this data.\n",
      "\u001b[36mℹ\u001b[39m Specify the column types or set `show_col_types = FALSE` to quiet this message.\n",
      "\u001b[1mRows: \u001b[22m\u001b[34m371249\u001b[39m \u001b[1mColumns: \u001b[22m\u001b[34m13\u001b[39m\n",
      "\u001b[36m──\u001b[39m \u001b[1mColumn specification\u001b[22m \u001b[36m────────────────────────────────────────────────────────\u001b[39m\n",
      "\u001b[1mDelimiter:\u001b[22m \",\"\n",
      "\u001b[31mchr\u001b[39m  (7): ride_id, rideable_type, start_station_name, start_station_id, end_...\n",
      "\u001b[32mdbl\u001b[39m  (4): start_lat, start_lng, end_lat, end_lng\n",
      "\u001b[34mdttm\u001b[39m (2): started_at, ended_at\n",
      "\n",
      "\u001b[36mℹ\u001b[39m Use `spec()` to retrieve the full column specification for this data.\n",
      "\u001b[36mℹ\u001b[39m Specify the column types or set `show_col_types = FALSE` to quiet this message.\n",
      "\u001b[1mRows: \u001b[22m\u001b[34m634858\u001b[39m \u001b[1mColumns: \u001b[22m\u001b[34m13\u001b[39m\n",
      "\u001b[36m──\u001b[39m \u001b[1mColumn specification\u001b[22m \u001b[36m────────────────────────────────────────────────────────\u001b[39m\n",
      "\u001b[1mDelimiter:\u001b[22m \",\"\n",
      "\u001b[31mchr\u001b[39m  (7): ride_id, rideable_type, start_station_name, start_station_id, end_...\n",
      "\u001b[32mdbl\u001b[39m  (4): start_lat, start_lng, end_lat, end_lng\n",
      "\u001b[34mdttm\u001b[39m (2): started_at, ended_at\n",
      "\n",
      "\u001b[36mℹ\u001b[39m Use `spec()` to retrieve the full column specification for this data.\n",
      "\u001b[36mℹ\u001b[39m Specify the column types or set `show_col_types = FALSE` to quiet this message.\n",
      "\u001b[1mRows: \u001b[22m\u001b[34m729595\u001b[39m \u001b[1mColumns: \u001b[22m\u001b[34m13\u001b[39m\n",
      "\u001b[36m──\u001b[39m \u001b[1mColumn specification\u001b[22m \u001b[36m────────────────────────────────────────────────────────\u001b[39m\n",
      "\u001b[1mDelimiter:\u001b[22m \",\"\n",
      "\u001b[31mchr\u001b[39m  (7): ride_id, rideable_type, start_station_name, start_station_id, end_...\n",
      "\u001b[32mdbl\u001b[39m  (4): start_lat, start_lng, end_lat, end_lng\n",
      "\u001b[34mdttm\u001b[39m (2): started_at, ended_at\n",
      "\n",
      "\u001b[36mℹ\u001b[39m Use `spec()` to retrieve the full column specification for this data.\n",
      "\u001b[36mℹ\u001b[39m Specify the column types or set `show_col_types = FALSE` to quiet this message.\n",
      "\u001b[1mRows: \u001b[22m\u001b[34m822410\u001b[39m \u001b[1mColumns: \u001b[22m\u001b[34m13\u001b[39m\n",
      "\u001b[36m──\u001b[39m \u001b[1mColumn specification\u001b[22m \u001b[36m────────────────────────────────────────────────────────\u001b[39m\n",
      "\u001b[1mDelimiter:\u001b[22m \",\"\n",
      "\u001b[31mchr\u001b[39m  (7): ride_id, rideable_type, start_station_name, start_station_id, end_...\n",
      "\u001b[32mdbl\u001b[39m  (4): start_lat, start_lng, end_lat, end_lng\n",
      "\u001b[34mdttm\u001b[39m (2): started_at, ended_at\n",
      "\n",
      "\u001b[36mℹ\u001b[39m Use `spec()` to retrieve the full column specification for this data.\n",
      "\u001b[36mℹ\u001b[39m Specify the column types or set `show_col_types = FALSE` to quiet this message.\n",
      "\u001b[1mRows: \u001b[22m\u001b[34m804352\u001b[39m \u001b[1mColumns: \u001b[22m\u001b[34m13\u001b[39m\n",
      "\u001b[36m──\u001b[39m \u001b[1mColumn specification\u001b[22m \u001b[36m────────────────────────────────────────────────────────\u001b[39m\n",
      "\u001b[1mDelimiter:\u001b[22m \",\"\n",
      "\u001b[31mchr\u001b[39m  (7): ride_id, rideable_type, start_station_name, start_station_id, end_...\n",
      "\u001b[32mdbl\u001b[39m  (4): start_lat, start_lng, end_lat, end_lng\n",
      "\u001b[34mdttm\u001b[39m (2): started_at, ended_at\n",
      "\n",
      "\u001b[36mℹ\u001b[39m Use `spec()` to retrieve the full column specification for this data.\n",
      "\u001b[36mℹ\u001b[39m Specify the column types or set `show_col_types = FALSE` to quiet this message.\n",
      "\u001b[1mRows: \u001b[22m\u001b[34m756147\u001b[39m \u001b[1mColumns: \u001b[22m\u001b[34m13\u001b[39m\n",
      "\u001b[36m──\u001b[39m \u001b[1mColumn specification\u001b[22m \u001b[36m────────────────────────────────────────────────────────\u001b[39m\n",
      "\u001b[1mDelimiter:\u001b[22m \",\"\n",
      "\u001b[31mchr\u001b[39m  (7): ride_id, rideable_type, start_station_name, start_station_id, end_...\n",
      "\u001b[32mdbl\u001b[39m  (4): start_lat, start_lng, end_lat, end_lng\n",
      "\u001b[34mdttm\u001b[39m (2): started_at, ended_at\n",
      "\n",
      "\u001b[36mℹ\u001b[39m Use `spec()` to retrieve the full column specification for this data.\n",
      "\u001b[36mℹ\u001b[39m Specify the column types or set `show_col_types = FALSE` to quiet this message.\n",
      "\u001b[1mRows: \u001b[22m\u001b[34m631226\u001b[39m \u001b[1mColumns: \u001b[22m\u001b[34m13\u001b[39m\n",
      "\u001b[36m──\u001b[39m \u001b[1mColumn specification\u001b[22m \u001b[36m────────────────────────────────────────────────────────\u001b[39m\n",
      "\u001b[1mDelimiter:\u001b[22m \",\"\n",
      "\u001b[31mchr\u001b[39m  (7): ride_id, rideable_type, start_station_name, start_station_id, end_...\n",
      "\u001b[32mdbl\u001b[39m  (4): start_lat, start_lng, end_lat, end_lng\n",
      "\u001b[34mdttm\u001b[39m (2): started_at, ended_at\n",
      "\n",
      "\u001b[36mℹ\u001b[39m Use `spec()` to retrieve the full column specification for this data.\n",
      "\u001b[36mℹ\u001b[39m Specify the column types or set `show_col_types = FALSE` to quiet this message.\n",
      "\u001b[1mRows: \u001b[22m\u001b[34m359978\u001b[39m \u001b[1mColumns: \u001b[22m\u001b[34m13\u001b[39m\n",
      "\u001b[36m──\u001b[39m \u001b[1mColumn specification\u001b[22m \u001b[36m────────────────────────────────────────────────────────\u001b[39m\n",
      "\u001b[1mDelimiter:\u001b[22m \",\"\n",
      "\u001b[31mchr\u001b[39m  (7): ride_id, rideable_type, start_station_name, start_station_id, end_...\n",
      "\u001b[32mdbl\u001b[39m  (4): start_lat, start_lng, end_lat, end_lng\n",
      "\u001b[34mdttm\u001b[39m (2): started_at, ended_at\n",
      "\n",
      "\u001b[36mℹ\u001b[39m Use `spec()` to retrieve the full column specification for this data.\n",
      "\u001b[36mℹ\u001b[39m Specify the column types or set `show_col_types = FALSE` to quiet this message.\n",
      "\u001b[1mRows: \u001b[22m\u001b[34m247540\u001b[39m \u001b[1mColumns: \u001b[22m\u001b[34m13\u001b[39m\n",
      "\u001b[36m──\u001b[39m \u001b[1mColumn specification\u001b[22m \u001b[36m────────────────────────────────────────────────────────\u001b[39m\n",
      "\u001b[1mDelimiter:\u001b[22m \",\"\n",
      "\u001b[31mchr\u001b[39m  (7): ride_id, rideable_type, start_station_name, start_station_id, end_...\n",
      "\u001b[32mdbl\u001b[39m  (4): start_lat, start_lng, end_lat, end_lng\n",
      "\u001b[34mdttm\u001b[39m (2): started_at, ended_at\n",
      "\n",
      "\u001b[36mℹ\u001b[39m Use `spec()` to retrieve the full column specification for this data.\n",
      "\u001b[36mℹ\u001b[39m Specify the column types or set `show_col_types = FALSE` to quiet this message.\n"
     ]
    }
   ],
   "source": [
    "\n",
    "\n",
    "Trips_Jan <- read_csv(\"../input/cycle-data/202201-divvy-tripdata.csv\")\n",
    "Trips_Feb <- read_csv(\"../input/cycle-data/202202-divvy-tripdata.csv\")\n",
    "Trips_Mar <- read_csv(\"../input/cycle-data/202203-divvy-tripdata.csv\")\n",
    "Trips_Apr <- read_csv(\"../input/cycle-data/202204-divvy-tripdata.csv\")\n",
    "Trips_May <- read_csv(\"../input/cycle-data/202205-divvy-tripdata.csv\")\n",
    "Trips_Jun <- read_csv(\"../input/cycle-data/202106-divvy-tripdata.csv\")\n",
    "Trips_Jul <- read_csv(\"../input/cycle-data/202107-divvy-tripdata.csv\")\n",
    "Trips_Aug <- read_csv(\"../input/cycle-data/202108-divvy-tripdata.csv\")\n",
    "Trips_Sep <- read_csv(\"../input/cycle-data/202109-divvy-tripdata.csv\")\n",
    "Trips_Oct <- read_csv(\"../input/cycle-data/202110-divvy-tripdata.csv\")\n",
    "Trips_Nov <- read_csv(\"../input/cycle-data/202111-divvy-tripdata.csv\")\n",
    "Trips_Dec <- read_csv(\"../input/cycle-data/202112-divvy-tripdata.csv\")\n",
    "\n"
   ]
  },
  {
   "cell_type": "markdown",
   "id": "882b8ba0",
   "metadata": {
    "papermill": {
     "duration": 0.013023,
     "end_time": "2022-06-29T02:47:46.996570",
     "exception": false,
     "start_time": "2022-06-29T02:47:46.983547",
     "status": "completed"
    },
    "tags": []
   },
   "source": [
    "Check that all the datasets are bindedable with same rows"
   ]
  },
  {
   "cell_type": "code",
   "execution_count": 3,
   "id": "229c2db3",
   "metadata": {
    "execution": {
     "iopub.execute_input": "2022-06-29T02:47:47.025409Z",
     "iopub.status.busy": "2022-06-29T02:47:47.023685Z",
     "iopub.status.idle": "2022-06-29T02:47:47.066878Z",
     "shell.execute_reply": "2022-06-29T02:47:47.064993Z"
    },
    "papermill": {
     "duration": 0.060503,
     "end_time": "2022-06-29T02:47:47.069475",
     "exception": false,
     "start_time": "2022-06-29T02:47:47.008972",
     "status": "completed"
    },
    "tags": []
   },
   "outputs": [
    {
     "data": {
      "text/html": [
       "TRUE"
      ],
      "text/latex": [
       "TRUE"
      ],
      "text/markdown": [
       "TRUE"
      ],
      "text/plain": [
       "[1] TRUE"
      ]
     },
     "metadata": {},
     "output_type": "display_data"
    }
   ],
   "source": [
    "compare_df_cols_same(Trips_Jan, Trips_Feb, Trips_Mar, Trips_Apr, Trips_May, Trips_Jun, Trips_Jul, Trips_Aug, Trips_Sep, Trips_Oct, Trips_Nov, Trips_Dec)"
   ]
  },
  {
   "cell_type": "markdown",
   "id": "1e72427c",
   "metadata": {
    "papermill": {
     "duration": 0.012942,
     "end_time": "2022-06-29T02:47:47.096380",
     "exception": false,
     "start_time": "2022-06-29T02:47:47.083438",
     "status": "completed"
    },
    "tags": []
   },
   "source": [
    "Bind all dataframes into 1 large data frame named Trips"
   ]
  },
  {
   "cell_type": "code",
   "execution_count": 4,
   "id": "a5c5bd24",
   "metadata": {
    "execution": {
     "iopub.execute_input": "2022-06-29T02:47:47.127374Z",
     "iopub.status.busy": "2022-06-29T02:47:47.125114Z",
     "iopub.status.idle": "2022-06-29T02:47:53.499621Z",
     "shell.execute_reply": "2022-06-29T02:47:53.497544Z"
    },
    "papermill": {
     "duration": 6.393756,
     "end_time": "2022-06-29T02:47:53.502766",
     "exception": false,
     "start_time": "2022-06-29T02:47:47.109010",
     "status": "completed"
    },
    "tags": []
   },
   "outputs": [],
   "source": [
    "Trips <- bind_rows(Trips_Jan, Trips_Feb, Trips_Mar, Trips_Apr, Trips_May, Trips_Jun, Trips_Jul, Trips_Aug, Trips_Sep, Trips_Oct, Trips_Nov, Trips_Dec)"
   ]
  },
  {
   "cell_type": "markdown",
   "id": "d04ed31a",
   "metadata": {
    "papermill": {
     "duration": 0.013791,
     "end_time": "2022-06-29T02:47:53.529487",
     "exception": false,
     "start_time": "2022-06-29T02:47:53.515696",
     "status": "completed"
    },
    "tags": []
   },
   "source": [
    "### Clean Data"
   ]
  },
  {
   "cell_type": "markdown",
   "id": "3fe0e515",
   "metadata": {
    "papermill": {
     "duration": 0.012961,
     "end_time": "2022-06-29T02:47:53.555168",
     "exception": false,
     "start_time": "2022-06-29T02:47:53.542207",
     "status": "completed"
    },
    "tags": []
   },
   "source": [
    "Drop the latitude and longitude as they aren't useful to our analysis "
   ]
  },
  {
   "cell_type": "code",
   "execution_count": 5,
   "id": "0f33533e",
   "metadata": {
    "execution": {
     "iopub.execute_input": "2022-06-29T02:47:53.584776Z",
     "iopub.status.busy": "2022-06-29T02:47:53.582844Z",
     "iopub.status.idle": "2022-06-29T02:47:53.645903Z",
     "shell.execute_reply": "2022-06-29T02:47:53.643482Z"
    },
    "papermill": {
     "duration": 0.080653,
     "end_time": "2022-06-29T02:47:53.648682",
     "exception": false,
     "start_time": "2022-06-29T02:47:53.568029",
     "status": "completed"
    },
    "tags": []
   },
   "outputs": [],
   "source": [
    "Trips <- Trips %>%\n",
    "  select(-c(start_lat, start_lng, end_lat, end_lng))"
   ]
  },
  {
   "cell_type": "markdown",
   "id": "344afa64",
   "metadata": {
    "papermill": {
     "duration": 0.012914,
     "end_time": "2022-06-29T02:47:53.674381",
     "exception": false,
     "start_time": "2022-06-29T02:47:53.661467",
     "status": "completed"
    },
    "tags": []
   },
   "source": [
    "Make the start time into more useable columns of data"
   ]
  },
  {
   "cell_type": "code",
   "execution_count": 6,
   "id": "c7c30c69",
   "metadata": {
    "execution": {
     "iopub.execute_input": "2022-06-29T02:47:53.704169Z",
     "iopub.status.busy": "2022-06-29T02:47:53.702376Z",
     "iopub.status.idle": "2022-06-29T02:48:10.933661Z",
     "shell.execute_reply": "2022-06-29T02:48:10.931514Z"
    },
    "papermill": {
     "duration": 17.249506,
     "end_time": "2022-06-29T02:48:10.936689",
     "exception": false,
     "start_time": "2022-06-29T02:47:53.687183",
     "status": "completed"
    },
    "tags": []
   },
   "outputs": [],
   "source": [
    "Trips$date <- as.Date(Trips$started_at) #the default format is yyyy-mm-dd\n",
    "Trips$month <- format(as.Date(Trips$date), \"%B\") # make month into columns named after each month\n",
    "Trips$day <- format(as.Date(Trips$date), \"%d\") # make day into a column by number\n",
    "Trips$year <- format(as.Date(Trips$date), \"%Y\") # make year into a column\n",
    "Trips$day_of_week <- format(as.Date(Trips$date), \"%A\") # make day into a column by name\n"
   ]
  },
  {
   "cell_type": "markdown",
   "id": "30ec0601",
   "metadata": {
    "papermill": {
     "duration": 0.012814,
     "end_time": "2022-06-29T02:48:10.962468",
     "exception": false,
     "start_time": "2022-06-29T02:48:10.949654",
     "status": "completed"
    },
    "tags": []
   },
   "source": [
    "Check both columns member_casual and rideable_type for their different values\n",
    "\n",
    "docked_bike is a bike in maintenance we will nedd to remove those before we analysis our data"
   ]
  },
  {
   "cell_type": "code",
   "execution_count": 7,
   "id": "ad11b704",
   "metadata": {
    "execution": {
     "iopub.execute_input": "2022-06-29T02:48:10.991974Z",
     "iopub.status.busy": "2022-06-29T02:48:10.990297Z",
     "iopub.status.idle": "2022-06-29T02:48:11.256844Z",
     "shell.execute_reply": "2022-06-29T02:48:11.254911Z"
    },
    "papermill": {
     "duration": 0.284374,
     "end_time": "2022-06-29T02:48:11.259402",
     "exception": false,
     "start_time": "2022-06-29T02:48:10.975028",
     "status": "completed"
    },
    "tags": []
   },
   "outputs": [
    {
     "data": {
      "text/html": [
       "<style>\n",
       ".list-inline {list-style: none; margin:0; padding: 0}\n",
       ".list-inline>li {display: inline-block}\n",
       ".list-inline>li:not(:last-child)::after {content: \"\\00b7\"; padding: 0 .5ex}\n",
       "</style>\n",
       "<ol class=list-inline><li>'casual'</li><li>'member'</li></ol>\n"
      ],
      "text/latex": [
       "\\begin{enumerate*}\n",
       "\\item 'casual'\n",
       "\\item 'member'\n",
       "\\end{enumerate*}\n"
      ],
      "text/markdown": [
       "1. 'casual'\n",
       "2. 'member'\n",
       "\n",
       "\n"
      ],
      "text/plain": [
       "[1] \"casual\" \"member\""
      ]
     },
     "metadata": {},
     "output_type": "display_data"
    },
    {
     "data": {
      "text/html": [
       "<style>\n",
       ".list-inline {list-style: none; margin:0; padding: 0}\n",
       ".list-inline>li {display: inline-block}\n",
       ".list-inline>li:not(:last-child)::after {content: \"\\00b7\"; padding: 0 .5ex}\n",
       "</style>\n",
       "<ol class=list-inline><li>'electric_bike'</li><li>'classic_bike'</li><li>'docked_bike'</li></ol>\n"
      ],
      "text/latex": [
       "\\begin{enumerate*}\n",
       "\\item 'electric\\_bike'\n",
       "\\item 'classic\\_bike'\n",
       "\\item 'docked\\_bike'\n",
       "\\end{enumerate*}\n"
      ],
      "text/markdown": [
       "1. 'electric_bike'\n",
       "2. 'classic_bike'\n",
       "3. 'docked_bike'\n",
       "\n",
       "\n"
      ],
      "text/plain": [
       "[1] \"electric_bike\" \"classic_bike\"  \"docked_bike\"  "
      ]
     },
     "metadata": {},
     "output_type": "display_data"
    }
   ],
   "source": [
    "unique(Trips$member_casual)\n",
    "unique(Trips$rideable_type)"
   ]
  },
  {
   "cell_type": "markdown",
   "id": "897ccefe",
   "metadata": {
    "papermill": {
     "duration": 0.012914,
     "end_time": "2022-06-29T02:48:11.285224",
     "exception": false,
     "start_time": "2022-06-29T02:48:11.272310",
     "status": "completed"
    },
    "tags": []
   },
   "source": [
    "Create a new variable ride length to measure the time spent using a bike"
   ]
  },
  {
   "cell_type": "code",
   "execution_count": 8,
   "id": "f40981f4",
   "metadata": {
    "execution": {
     "iopub.execute_input": "2022-06-29T02:48:11.315020Z",
     "iopub.status.busy": "2022-06-29T02:48:11.313231Z",
     "iopub.status.idle": "2022-06-29T02:48:13.203709Z",
     "shell.execute_reply": "2022-06-29T02:48:13.201153Z"
    },
    "papermill": {
     "duration": 1.909048,
     "end_time": "2022-06-29T02:48:13.207241",
     "exception": false,
     "start_time": "2022-06-29T02:48:11.298193",
     "status": "completed"
    },
    "tags": []
   },
   "outputs": [],
   "source": [
    "Trips$ride_length <- difftime(Trips$ended_at,Trips$started_at) #creates new column ride_length \n"
   ]
  },
  {
   "cell_type": "markdown",
   "id": "185048a9",
   "metadata": {
    "papermill": {
     "duration": 0.0127,
     "end_time": "2022-06-29T02:48:13.232727",
     "exception": false,
     "start_time": "2022-06-29T02:48:13.220027",
     "status": "completed"
    },
    "tags": []
   },
   "source": [
    "Drop all NA rows if"
   ]
  },
  {
   "cell_type": "code",
   "execution_count": 9,
   "id": "0fa0794f",
   "metadata": {
    "execution": {
     "iopub.execute_input": "2022-06-29T02:48:13.262325Z",
     "iopub.status.busy": "2022-06-29T02:48:13.260322Z",
     "iopub.status.idle": "2022-06-29T02:48:14.435979Z",
     "shell.execute_reply": "2022-06-29T02:48:14.433965Z"
    },
    "papermill": {
     "duration": 1.193528,
     "end_time": "2022-06-29T02:48:14.438621",
     "exception": false,
     "start_time": "2022-06-29T02:48:13.245093",
     "status": "completed"
    },
    "tags": []
   },
   "outputs": [],
   "source": [
    "Trips <- drop_na(Trips)"
   ]
  },
  {
   "cell_type": "markdown",
   "id": "7c23dea1",
   "metadata": {
    "papermill": {
     "duration": 0.017936,
     "end_time": "2022-06-29T02:48:14.469099",
     "exception": false,
     "start_time": "2022-06-29T02:48:14.451163",
     "status": "completed"
    },
    "tags": []
   },
   "source": [
    "How many distinct riders are there in our data set"
   ]
  },
  {
   "cell_type": "code",
   "execution_count": 10,
   "id": "05e9974e",
   "metadata": {
    "execution": {
     "iopub.execute_input": "2022-06-29T02:48:14.498878Z",
     "iopub.status.busy": "2022-06-29T02:48:14.497046Z",
     "iopub.status.idle": "2022-06-29T02:48:20.008949Z",
     "shell.execute_reply": "2022-06-29T02:48:20.006932Z"
    },
    "papermill": {
     "duration": 5.530104,
     "end_time": "2022-06-29T02:48:20.012034",
     "exception": false,
     "start_time": "2022-06-29T02:48:14.481930",
     "status": "completed"
    },
    "tags": []
   },
   "outputs": [
    {
     "data": {
      "text/html": [
       "4667299"
      ],
      "text/latex": [
       "4667299"
      ],
      "text/markdown": [
       "4667299"
      ],
      "text/plain": [
       "[1] 4667299"
      ]
     },
     "metadata": {},
     "output_type": "display_data"
    }
   ],
   "source": [
    "Trips%>% distinct(ride_id, .keep_all =TRUE) %>% nrow(.)"
   ]
  },
  {
   "cell_type": "markdown",
   "id": "88bf61db",
   "metadata": {
    "papermill": {
     "duration": 0.014885,
     "end_time": "2022-06-29T02:48:20.043092",
     "exception": false,
     "start_time": "2022-06-29T02:48:20.028207",
     "status": "completed"
    },
    "tags": []
   },
   "source": [
    "Check if ride_length is a factor"
   ]
  },
  {
   "cell_type": "code",
   "execution_count": 11,
   "id": "ca55a3ee",
   "metadata": {
    "execution": {
     "iopub.execute_input": "2022-06-29T02:48:20.077943Z",
     "iopub.status.busy": "2022-06-29T02:48:20.075981Z",
     "iopub.status.idle": "2022-06-29T02:48:20.100162Z",
     "shell.execute_reply": "2022-06-29T02:48:20.098087Z"
    },
    "papermill": {
     "duration": 0.044488,
     "end_time": "2022-06-29T02:48:20.102726",
     "exception": false,
     "start_time": "2022-06-29T02:48:20.058238",
     "status": "completed"
    },
    "tags": []
   },
   "outputs": [
    {
     "data": {
      "text/html": [
       "FALSE"
      ],
      "text/latex": [
       "FALSE"
      ],
      "text/markdown": [
       "FALSE"
      ],
      "text/plain": [
       "[1] FALSE"
      ]
     },
     "metadata": {},
     "output_type": "display_data"
    }
   ],
   "source": [
    "is.factor(Trips$ride_length) #returns boolean if ride_length is a factor"
   ]
  },
  {
   "cell_type": "markdown",
   "id": "050dd58d",
   "metadata": {
    "papermill": {
     "duration": 0.015779,
     "end_time": "2022-06-29T02:48:20.133524",
     "exception": false,
     "start_time": "2022-06-29T02:48:20.117745",
     "status": "completed"
    },
    "tags": []
   },
   "source": [
    "Make ride lenth into a numeric variable"
   ]
  },
  {
   "cell_type": "code",
   "execution_count": 12,
   "id": "a6c828c0",
   "metadata": {
    "execution": {
     "iopub.execute_input": "2022-06-29T02:48:20.163273Z",
     "iopub.status.busy": "2022-06-29T02:48:20.161477Z",
     "iopub.status.idle": "2022-06-29T02:48:26.268891Z",
     "shell.execute_reply": "2022-06-29T02:48:26.264885Z"
    },
    "papermill": {
     "duration": 6.127679,
     "end_time": "2022-06-29T02:48:26.274306",
     "exception": false,
     "start_time": "2022-06-29T02:48:20.146627",
     "status": "completed"
    },
    "tags": []
   },
   "outputs": [],
   "source": [
    "Trips$ride_length <- as.numeric(as.character(Trips$ride_length)) #makes ride_length into numeric data type"
   ]
  },
  {
   "cell_type": "markdown",
   "id": "bfa6c691",
   "metadata": {
    "papermill": {
     "duration": 0.013401,
     "end_time": "2022-06-29T02:48:26.303959",
     "exception": false,
     "start_time": "2022-06-29T02:48:26.290558",
     "status": "completed"
    },
    "tags": []
   },
   "source": [
    "Check if ride length is numeric"
   ]
  },
  {
   "cell_type": "code",
   "execution_count": 13,
   "id": "9f2a7c39",
   "metadata": {
    "execution": {
     "iopub.execute_input": "2022-06-29T02:48:26.335701Z",
     "iopub.status.busy": "2022-06-29T02:48:26.333629Z",
     "iopub.status.idle": "2022-06-29T02:48:26.360293Z",
     "shell.execute_reply": "2022-06-29T02:48:26.357622Z"
    },
    "papermill": {
     "duration": 0.04663,
     "end_time": "2022-06-29T02:48:26.363524",
     "exception": false,
     "start_time": "2022-06-29T02:48:26.316894",
     "status": "completed"
    },
    "tags": []
   },
   "outputs": [
    {
     "data": {
      "text/html": [
       "TRUE"
      ],
      "text/latex": [
       "TRUE"
      ],
      "text/markdown": [
       "TRUE"
      ],
      "text/plain": [
       "[1] TRUE"
      ]
     },
     "metadata": {},
     "output_type": "display_data"
    }
   ],
   "source": [
    "is.numeric(Trips$ride_length) #returns a boolean if ride_length is numeric"
   ]
  },
  {
   "cell_type": "markdown",
   "id": "d08d9d68",
   "metadata": {
    "papermill": {
     "duration": 0.013451,
     "end_time": "2022-06-29T02:48:26.390242",
     "exception": false,
     "start_time": "2022-06-29T02:48:26.376791",
     "status": "completed"
    },
    "tags": []
   },
   "source": [
    "Remove docked bikes as they are in maintenance and any trips equal to or less than 0 as those aren't trips"
   ]
  },
  {
   "cell_type": "code",
   "execution_count": 14,
   "id": "cdb591ba",
   "metadata": {
    "execution": {
     "iopub.execute_input": "2022-06-29T02:48:26.422030Z",
     "iopub.status.busy": "2022-06-29T02:48:26.419832Z",
     "iopub.status.idle": "2022-06-29T02:48:28.264420Z",
     "shell.execute_reply": "2022-06-29T02:48:28.262218Z"
    },
    "papermill": {
     "duration": 1.863651,
     "end_time": "2022-06-29T02:48:28.267350",
     "exception": false,
     "start_time": "2022-06-29T02:48:26.403699",
     "status": "completed"
    },
    "tags": []
   },
   "outputs": [],
   "source": [
    "Trips_v2 <- Trips[!(Trips$rideable_type == \"docked_bike\" | Trips$ride_length<=0),]\n",
    "#rides cannot be 0 or less time and docked bikes are under going testing"
   ]
  },
  {
   "cell_type": "markdown",
   "id": "9acecb93",
   "metadata": {
    "papermill": {
     "duration": 0.013174,
     "end_time": "2022-06-29T02:48:28.293692",
     "exception": false,
     "start_time": "2022-06-29T02:48:28.280518",
     "status": "completed"
    },
    "tags": []
   },
   "source": [
    "### Analyse"
   ]
  },
  {
   "cell_type": "markdown",
   "id": "ce9bf3d6",
   "metadata": {
    "papermill": {
     "duration": 0.012958,
     "end_time": "2022-06-29T02:48:28.319479",
     "exception": false,
     "start_time": "2022-06-29T02:48:28.306521",
     "status": "completed"
    },
    "tags": []
   },
   "source": [
    "Check basic statistic attributes of ride length"
   ]
  },
  {
   "cell_type": "code",
   "execution_count": 15,
   "id": "27328ff7",
   "metadata": {
    "execution": {
     "iopub.execute_input": "2022-06-29T02:48:28.350478Z",
     "iopub.status.busy": "2022-06-29T02:48:28.348557Z",
     "iopub.status.idle": "2022-06-29T02:48:28.684147Z",
     "shell.execute_reply": "2022-06-29T02:48:28.681907Z"
    },
    "papermill": {
     "duration": 0.353954,
     "end_time": "2022-06-29T02:48:28.686966",
     "exception": false,
     "start_time": "2022-06-29T02:48:28.333012",
     "status": "completed"
    },
    "tags": []
   },
   "outputs": [
    {
     "data": {
      "text/html": [
       "1020.34307798093"
      ],
      "text/latex": [
       "1020.34307798093"
      ],
      "text/markdown": [
       "1020.34307798093"
      ],
      "text/plain": [
       "[1] 1020.343"
      ]
     },
     "metadata": {},
     "output_type": "display_data"
    },
    {
     "data": {
      "text/html": [
       "665"
      ],
      "text/latex": [
       "665"
      ],
      "text/markdown": [
       "665"
      ],
      "text/plain": [
       "[1] 665"
      ]
     },
     "metadata": {},
     "output_type": "display_data"
    },
    {
     "data": {
      "text/html": [
       "89994"
      ],
      "text/latex": [
       "89994"
      ],
      "text/markdown": [
       "89994"
      ],
      "text/plain": [
       "[1] 89994"
      ]
     },
     "metadata": {},
     "output_type": "display_data"
    },
    {
     "data": {
      "text/html": [
       "1"
      ],
      "text/latex": [
       "1"
      ],
      "text/markdown": [
       "1"
      ],
      "text/plain": [
       "[1] 1"
      ]
     },
     "metadata": {},
     "output_type": "display_data"
    }
   ],
   "source": [
    "mean(Trips_v2$ride_length) #mean ride length\n",
    "median(Trips_v2$ride_length) #median ride length\n",
    "max(Trips_v2$ride_length) #longest ride\n",
    "min(Trips_v2$ride_length) #shortest ride\n"
   ]
  },
  {
   "cell_type": "markdown",
   "id": "cbb2b619",
   "metadata": {
    "papermill": {
     "duration": 0.015039,
     "end_time": "2022-06-29T02:48:28.716365",
     "exception": false,
     "start_time": "2022-06-29T02:48:28.701326",
     "status": "completed"
    },
    "tags": []
   },
   "source": [
    "Compare basic sstatistic attributes between members and casuals"
   ]
  },
  {
   "cell_type": "code",
   "execution_count": 16,
   "id": "167114cf",
   "metadata": {
    "execution": {
     "iopub.execute_input": "2022-06-29T02:48:28.819878Z",
     "iopub.status.busy": "2022-06-29T02:48:28.818008Z",
     "iopub.status.idle": "2022-06-29T02:48:47.114820Z",
     "shell.execute_reply": "2022-06-29T02:48:47.112847Z"
    },
    "papermill": {
     "duration": 18.316187,
     "end_time": "2022-06-29T02:48:47.118226",
     "exception": false,
     "start_time": "2022-06-29T02:48:28.802039",
     "status": "completed"
    },
    "tags": []
   },
   "outputs": [
    {
     "data": {
      "text/html": [
       "<table class=\"dataframe\">\n",
       "<caption>A data.frame: 2 × 2</caption>\n",
       "<thead>\n",
       "\t<tr><th scope=col>Trips_v2$member_casual</th><th scope=col>Trips_v2$ride_length</th></tr>\n",
       "\t<tr><th scope=col>&lt;chr&gt;</th><th scope=col>&lt;dbl&gt;</th></tr>\n",
       "</thead>\n",
       "<tbody>\n",
       "\t<tr><td>casual</td><td>1414.3769</td></tr>\n",
       "\t<tr><td>member</td><td> 760.5862</td></tr>\n",
       "</tbody>\n",
       "</table>\n"
      ],
      "text/latex": [
       "A data.frame: 2 × 2\n",
       "\\begin{tabular}{ll}\n",
       " Trips\\_v2\\$member\\_casual & Trips\\_v2\\$ride\\_length\\\\\n",
       " <chr> & <dbl>\\\\\n",
       "\\hline\n",
       "\t casual & 1414.3769\\\\\n",
       "\t member &  760.5862\\\\\n",
       "\\end{tabular}\n"
      ],
      "text/markdown": [
       "\n",
       "A data.frame: 2 × 2\n",
       "\n",
       "| Trips_v2$member_casual &lt;chr&gt; | Trips_v2$ride_length &lt;dbl&gt; |\n",
       "|---|---|\n",
       "| casual | 1414.3769 |\n",
       "| member |  760.5862 |\n",
       "\n"
      ],
      "text/plain": [
       "  Trips_v2$member_casual Trips_v2$ride_length\n",
       "1 casual                 1414.3769           \n",
       "2 member                  760.5862           "
      ]
     },
     "metadata": {},
     "output_type": "display_data"
    },
    {
     "data": {
      "text/html": [
       "<table class=\"dataframe\">\n",
       "<caption>A data.frame: 2 × 2</caption>\n",
       "<thead>\n",
       "\t<tr><th scope=col>Trips_v2$member_casual</th><th scope=col>Trips_v2$ride_length</th></tr>\n",
       "\t<tr><th scope=col>&lt;chr&gt;</th><th scope=col>&lt;dbl&gt;</th></tr>\n",
       "</thead>\n",
       "<tbody>\n",
       "\t<tr><td>casual</td><td>881</td></tr>\n",
       "\t<tr><td>member</td><td>556</td></tr>\n",
       "</tbody>\n",
       "</table>\n"
      ],
      "text/latex": [
       "A data.frame: 2 × 2\n",
       "\\begin{tabular}{ll}\n",
       " Trips\\_v2\\$member\\_casual & Trips\\_v2\\$ride\\_length\\\\\n",
       " <chr> & <dbl>\\\\\n",
       "\\hline\n",
       "\t casual & 881\\\\\n",
       "\t member & 556\\\\\n",
       "\\end{tabular}\n"
      ],
      "text/markdown": [
       "\n",
       "A data.frame: 2 × 2\n",
       "\n",
       "| Trips_v2$member_casual &lt;chr&gt; | Trips_v2$ride_length &lt;dbl&gt; |\n",
       "|---|---|\n",
       "| casual | 881 |\n",
       "| member | 556 |\n",
       "\n"
      ],
      "text/plain": [
       "  Trips_v2$member_casual Trips_v2$ride_length\n",
       "1 casual                 881                 \n",
       "2 member                 556                 "
      ]
     },
     "metadata": {},
     "output_type": "display_data"
    },
    {
     "data": {
      "text/html": [
       "<table class=\"dataframe\">\n",
       "<caption>A data.frame: 2 × 2</caption>\n",
       "<thead>\n",
       "\t<tr><th scope=col>Trips_v2$member_casual</th><th scope=col>Trips_v2$ride_length</th></tr>\n",
       "\t<tr><th scope=col>&lt;chr&gt;</th><th scope=col>&lt;dbl&gt;</th></tr>\n",
       "</thead>\n",
       "<tbody>\n",
       "\t<tr><td>casual</td><td>89994</td></tr>\n",
       "\t<tr><td>member</td><td>89738</td></tr>\n",
       "</tbody>\n",
       "</table>\n"
      ],
      "text/latex": [
       "A data.frame: 2 × 2\n",
       "\\begin{tabular}{ll}\n",
       " Trips\\_v2\\$member\\_casual & Trips\\_v2\\$ride\\_length\\\\\n",
       " <chr> & <dbl>\\\\\n",
       "\\hline\n",
       "\t casual & 89994\\\\\n",
       "\t member & 89738\\\\\n",
       "\\end{tabular}\n"
      ],
      "text/markdown": [
       "\n",
       "A data.frame: 2 × 2\n",
       "\n",
       "| Trips_v2$member_casual &lt;chr&gt; | Trips_v2$ride_length &lt;dbl&gt; |\n",
       "|---|---|\n",
       "| casual | 89994 |\n",
       "| member | 89738 |\n",
       "\n"
      ],
      "text/plain": [
       "  Trips_v2$member_casual Trips_v2$ride_length\n",
       "1 casual                 89994               \n",
       "2 member                 89738               "
      ]
     },
     "metadata": {},
     "output_type": "display_data"
    },
    {
     "data": {
      "text/html": [
       "<table class=\"dataframe\">\n",
       "<caption>A data.frame: 2 × 2</caption>\n",
       "<thead>\n",
       "\t<tr><th scope=col>Trips_v2$member_casual</th><th scope=col>Trips_v2$ride_length</th></tr>\n",
       "\t<tr><th scope=col>&lt;chr&gt;</th><th scope=col>&lt;dbl&gt;</th></tr>\n",
       "</thead>\n",
       "<tbody>\n",
       "\t<tr><td>casual</td><td>1</td></tr>\n",
       "\t<tr><td>member</td><td>1</td></tr>\n",
       "</tbody>\n",
       "</table>\n"
      ],
      "text/latex": [
       "A data.frame: 2 × 2\n",
       "\\begin{tabular}{ll}\n",
       " Trips\\_v2\\$member\\_casual & Trips\\_v2\\$ride\\_length\\\\\n",
       " <chr> & <dbl>\\\\\n",
       "\\hline\n",
       "\t casual & 1\\\\\n",
       "\t member & 1\\\\\n",
       "\\end{tabular}\n"
      ],
      "text/markdown": [
       "\n",
       "A data.frame: 2 × 2\n",
       "\n",
       "| Trips_v2$member_casual &lt;chr&gt; | Trips_v2$ride_length &lt;dbl&gt; |\n",
       "|---|---|\n",
       "| casual | 1 |\n",
       "| member | 1 |\n",
       "\n"
      ],
      "text/plain": [
       "  Trips_v2$member_casual Trips_v2$ride_length\n",
       "1 casual                 1                   \n",
       "2 member                 1                   "
      ]
     },
     "metadata": {},
     "output_type": "display_data"
    }
   ],
   "source": [
    "aggregate(Trips_v2$ride_length ~ Trips_v2$member_casual, FUN = mean) # mean for members and casuals\n",
    "aggregate(Trips_v2$ride_length ~ Trips_v2$member_casual, FUN = median) # median for members and casuals\n",
    "aggregate(Trips_v2$ride_length ~ Trips_v2$member_casual, FUN = max) # max for each members and casuals\n",
    "aggregate(Trips_v2$ride_length ~ Trips_v2$member_casual, FUN = min) # min for each members and casuals"
   ]
  },
  {
   "cell_type": "markdown",
   "id": "8a63549b",
   "metadata": {
    "papermill": {
     "duration": 0.014679,
     "end_time": "2022-06-29T02:48:47.148050",
     "exception": false,
     "start_time": "2022-06-29T02:48:47.133371",
     "status": "completed"
    },
    "tags": []
   },
   "source": [
    "Order our days of the week and months"
   ]
  },
  {
   "cell_type": "code",
   "execution_count": 17,
   "id": "2ff00f11",
   "metadata": {
    "execution": {
     "iopub.execute_input": "2022-06-29T02:48:47.180977Z",
     "iopub.status.busy": "2022-06-29T02:48:47.178654Z",
     "iopub.status.idle": "2022-06-29T02:48:47.411333Z",
     "shell.execute_reply": "2022-06-29T02:48:47.408987Z"
    },
    "papermill": {
     "duration": 0.252818,
     "end_time": "2022-06-29T02:48:47.414852",
     "exception": false,
     "start_time": "2022-06-29T02:48:47.162034",
     "status": "completed"
    },
    "tags": []
   },
   "outputs": [],
   "source": [
    "#Order the days of the week\n",
    "Trips_v2$day_of_week <- ordered(Trips_v2$day_of_week, levels=c(\"Sunday\", \"Monday\", \"Tuesday\", \"Wednesday\", \"Thursday\", \"Friday\", \"Saturday\"))\n",
    "Trips_v2$month <- ordered(Trips_v2$month, levels=c(\"January\", \"February\", \"March\", \"April\", \"May\", \"June\", \"July\", \"August\", \"September\", \"October\", \"November\",\n",
    "                                                       \"December\"))"
   ]
  },
  {
   "cell_type": "markdown",
   "id": "027149b0",
   "metadata": {
    "papermill": {
     "duration": 0.014976,
     "end_time": "2022-06-29T02:48:47.445063",
     "exception": false,
     "start_time": "2022-06-29T02:48:47.430087",
     "status": "completed"
    },
    "tags": []
   },
   "source": [
    "Now use days of the week to get our statisticial attributes for members vs casuals"
   ]
  },
  {
   "cell_type": "code",
   "execution_count": 18,
   "id": "0be9ccb2",
   "metadata": {
    "execution": {
     "iopub.execute_input": "2022-06-29T02:48:47.477889Z",
     "iopub.status.busy": "2022-06-29T02:48:47.475905Z",
     "iopub.status.idle": "2022-06-29T02:48:51.634497Z",
     "shell.execute_reply": "2022-06-29T02:48:51.632483Z"
    },
    "papermill": {
     "duration": 4.177765,
     "end_time": "2022-06-29T02:48:51.637250",
     "exception": false,
     "start_time": "2022-06-29T02:48:47.459485",
     "status": "completed"
    },
    "tags": []
   },
   "outputs": [
    {
     "data": {
      "text/html": [
       "<table class=\"dataframe\">\n",
       "<caption>A data.frame: 14 × 3</caption>\n",
       "<thead>\n",
       "\t<tr><th scope=col>Trips_v2$member_casual</th><th scope=col>Trips_v2$day_of_week</th><th scope=col>Trips_v2$ride_length</th></tr>\n",
       "\t<tr><th scope=col>&lt;chr&gt;</th><th scope=col>&lt;ord&gt;</th><th scope=col>&lt;dbl&gt;</th></tr>\n",
       "</thead>\n",
       "<tbody>\n",
       "\t<tr><td>casual</td><td>Sunday   </td><td>1609.8670</td></tr>\n",
       "\t<tr><td>member</td><td>Sunday   </td><td> 867.1001</td></tr>\n",
       "\t<tr><td>casual</td><td>Monday   </td><td>1427.3289</td></tr>\n",
       "\t<tr><td>member</td><td>Monday   </td><td> 736.6089</td></tr>\n",
       "\t<tr><td>casual</td><td>Tuesday  </td><td>1252.8928</td></tr>\n",
       "\t<tr><td>member</td><td>Tuesday  </td><td> 711.8735</td></tr>\n",
       "\t<tr><td>casual</td><td>Wednesday</td><td>1239.2664</td></tr>\n",
       "\t<tr><td>member</td><td>Wednesday</td><td> 721.8303</td></tr>\n",
       "\t<tr><td>casual</td><td>Thursday </td><td>1247.8053</td></tr>\n",
       "\t<tr><td>member</td><td>Thursday </td><td> 724.4624</td></tr>\n",
       "\t<tr><td>casual</td><td>Friday   </td><td>1330.5341</td></tr>\n",
       "\t<tr><td>member</td><td>Friday   </td><td> 741.9149</td></tr>\n",
       "\t<tr><td>casual</td><td>Saturday </td><td>1555.2847</td></tr>\n",
       "\t<tr><td>member</td><td>Saturday </td><td> 856.5949</td></tr>\n",
       "</tbody>\n",
       "</table>\n"
      ],
      "text/latex": [
       "A data.frame: 14 × 3\n",
       "\\begin{tabular}{lll}\n",
       " Trips\\_v2\\$member\\_casual & Trips\\_v2\\$day\\_of\\_week & Trips\\_v2\\$ride\\_length\\\\\n",
       " <chr> & <ord> & <dbl>\\\\\n",
       "\\hline\n",
       "\t casual & Sunday    & 1609.8670\\\\\n",
       "\t member & Sunday    &  867.1001\\\\\n",
       "\t casual & Monday    & 1427.3289\\\\\n",
       "\t member & Monday    &  736.6089\\\\\n",
       "\t casual & Tuesday   & 1252.8928\\\\\n",
       "\t member & Tuesday   &  711.8735\\\\\n",
       "\t casual & Wednesday & 1239.2664\\\\\n",
       "\t member & Wednesday &  721.8303\\\\\n",
       "\t casual & Thursday  & 1247.8053\\\\\n",
       "\t member & Thursday  &  724.4624\\\\\n",
       "\t casual & Friday    & 1330.5341\\\\\n",
       "\t member & Friday    &  741.9149\\\\\n",
       "\t casual & Saturday  & 1555.2847\\\\\n",
       "\t member & Saturday  &  856.5949\\\\\n",
       "\\end{tabular}\n"
      ],
      "text/markdown": [
       "\n",
       "A data.frame: 14 × 3\n",
       "\n",
       "| Trips_v2$member_casual &lt;chr&gt; | Trips_v2$day_of_week &lt;ord&gt; | Trips_v2$ride_length &lt;dbl&gt; |\n",
       "|---|---|---|\n",
       "| casual | Sunday    | 1609.8670 |\n",
       "| member | Sunday    |  867.1001 |\n",
       "| casual | Monday    | 1427.3289 |\n",
       "| member | Monday    |  736.6089 |\n",
       "| casual | Tuesday   | 1252.8928 |\n",
       "| member | Tuesday   |  711.8735 |\n",
       "| casual | Wednesday | 1239.2664 |\n",
       "| member | Wednesday |  721.8303 |\n",
       "| casual | Thursday  | 1247.8053 |\n",
       "| member | Thursday  |  724.4624 |\n",
       "| casual | Friday    | 1330.5341 |\n",
       "| member | Friday    |  741.9149 |\n",
       "| casual | Saturday  | 1555.2847 |\n",
       "| member | Saturday  |  856.5949 |\n",
       "\n"
      ],
      "text/plain": [
       "   Trips_v2$member_casual Trips_v2$day_of_week Trips_v2$ride_length\n",
       "1  casual                 Sunday               1609.8670           \n",
       "2  member                 Sunday                867.1001           \n",
       "3  casual                 Monday               1427.3289           \n",
       "4  member                 Monday                736.6089           \n",
       "5  casual                 Tuesday              1252.8928           \n",
       "6  member                 Tuesday               711.8735           \n",
       "7  casual                 Wednesday            1239.2664           \n",
       "8  member                 Wednesday             721.8303           \n",
       "9  casual                 Thursday             1247.8053           \n",
       "10 member                 Thursday              724.4624           \n",
       "11 casual                 Friday               1330.5341           \n",
       "12 member                 Friday                741.9149           \n",
       "13 casual                 Saturday             1555.2847           \n",
       "14 member                 Saturday              856.5949           "
      ]
     },
     "metadata": {},
     "output_type": "display_data"
    }
   ],
   "source": [
    "#Now, let's run the average ride time by each day for members vs casual users\n",
    "aggregate(Trips_v2$ride_length ~ Trips_v2$member_casual + Trips_v2$day_of_week, FUN = mean)"
   ]
  },
  {
   "cell_type": "markdown",
   "id": "e7ab6d7a",
   "metadata": {
    "papermill": {
     "duration": 0.01489,
     "end_time": "2022-06-29T02:48:51.667646",
     "exception": false,
     "start_time": "2022-06-29T02:48:51.652756",
     "status": "completed"
    },
    "tags": []
   },
   "source": [
    "Do the same for months"
   ]
  },
  {
   "cell_type": "code",
   "execution_count": 19,
   "id": "6da21c58",
   "metadata": {
    "execution": {
     "iopub.execute_input": "2022-06-29T02:48:51.701766Z",
     "iopub.status.busy": "2022-06-29T02:48:51.699980Z",
     "iopub.status.idle": "2022-06-29T02:48:55.969859Z",
     "shell.execute_reply": "2022-06-29T02:48:55.967483Z"
    },
    "papermill": {
     "duration": 4.291015,
     "end_time": "2022-06-29T02:48:55.973203",
     "exception": false,
     "start_time": "2022-06-29T02:48:51.682188",
     "status": "completed"
    },
    "tags": []
   },
   "outputs": [
    {
     "data": {
      "text/html": [
       "<table class=\"dataframe\">\n",
       "<caption>A data.frame: 24 × 3</caption>\n",
       "<thead>\n",
       "\t<tr><th scope=col>Trips_v2$member_casual</th><th scope=col>Trips_v2$month</th><th scope=col>Trips_v2$ride_length</th></tr>\n",
       "\t<tr><th scope=col>&lt;chr&gt;</th><th scope=col>&lt;ord&gt;</th><th scope=col>&lt;dbl&gt;</th></tr>\n",
       "</thead>\n",
       "<tbody>\n",
       "\t<tr><td>casual</td><td>January  </td><td>1009.7752</td></tr>\n",
       "\t<tr><td>member</td><td>January  </td><td> 616.1954</td></tr>\n",
       "\t<tr><td>casual</td><td>February </td><td>1145.2507</td></tr>\n",
       "\t<tr><td>member</td><td>February </td><td> 638.7056</td></tr>\n",
       "\t<tr><td>casual</td><td>March    </td><td>1416.5704</td></tr>\n",
       "\t<tr><td>member</td><td>March    </td><td> 707.8145</td></tr>\n",
       "\t<tr><td>casual</td><td>April    </td><td>1354.6937</td></tr>\n",
       "\t<tr><td>member</td><td>April    </td><td> 696.5853</td></tr>\n",
       "\t<tr><td>casual</td><td>May      </td><td>1466.2668</td></tr>\n",
       "\t<tr><td>member</td><td>May      </td><td> 798.0920</td></tr>\n",
       "\t<tr><td>casual</td><td>June     </td><td>1564.3321</td></tr>\n",
       "\t<tr><td>member</td><td>June     </td><td> 848.4031</td></tr>\n",
       "\t<tr><td>casual</td><td>July     </td><td>1479.8097</td></tr>\n",
       "\t<tr><td>member</td><td>July     </td><td> 827.4864</td></tr>\n",
       "\t<tr><td>casual</td><td>August   </td><td>1434.0054</td></tr>\n",
       "\t<tr><td>member</td><td>August   </td><td> 813.1758</td></tr>\n",
       "\t<tr><td>casual</td><td>September</td><td>1396.1838</td></tr>\n",
       "\t<tr><td>member</td><td>September</td><td> 787.8822</td></tr>\n",
       "\t<tr><td>casual</td><td>October  </td><td>1287.2360</td></tr>\n",
       "\t<tr><td>member</td><td>October  </td><td> 720.8777</td></tr>\n",
       "\t<tr><td>casual</td><td>November </td><td>1074.4287</td></tr>\n",
       "\t<tr><td>member</td><td>November </td><td> 657.0941</td></tr>\n",
       "\t<tr><td>casual</td><td>December </td><td>1065.7284</td></tr>\n",
       "\t<tr><td>member</td><td>December </td><td> 634.8852</td></tr>\n",
       "</tbody>\n",
       "</table>\n"
      ],
      "text/latex": [
       "A data.frame: 24 × 3\n",
       "\\begin{tabular}{lll}\n",
       " Trips\\_v2\\$member\\_casual & Trips\\_v2\\$month & Trips\\_v2\\$ride\\_length\\\\\n",
       " <chr> & <ord> & <dbl>\\\\\n",
       "\\hline\n",
       "\t casual & January   & 1009.7752\\\\\n",
       "\t member & January   &  616.1954\\\\\n",
       "\t casual & February  & 1145.2507\\\\\n",
       "\t member & February  &  638.7056\\\\\n",
       "\t casual & March     & 1416.5704\\\\\n",
       "\t member & March     &  707.8145\\\\\n",
       "\t casual & April     & 1354.6937\\\\\n",
       "\t member & April     &  696.5853\\\\\n",
       "\t casual & May       & 1466.2668\\\\\n",
       "\t member & May       &  798.0920\\\\\n",
       "\t casual & June      & 1564.3321\\\\\n",
       "\t member & June      &  848.4031\\\\\n",
       "\t casual & July      & 1479.8097\\\\\n",
       "\t member & July      &  827.4864\\\\\n",
       "\t casual & August    & 1434.0054\\\\\n",
       "\t member & August    &  813.1758\\\\\n",
       "\t casual & September & 1396.1838\\\\\n",
       "\t member & September &  787.8822\\\\\n",
       "\t casual & October   & 1287.2360\\\\\n",
       "\t member & October   &  720.8777\\\\\n",
       "\t casual & November  & 1074.4287\\\\\n",
       "\t member & November  &  657.0941\\\\\n",
       "\t casual & December  & 1065.7284\\\\\n",
       "\t member & December  &  634.8852\\\\\n",
       "\\end{tabular}\n"
      ],
      "text/markdown": [
       "\n",
       "A data.frame: 24 × 3\n",
       "\n",
       "| Trips_v2$member_casual &lt;chr&gt; | Trips_v2$month &lt;ord&gt; | Trips_v2$ride_length &lt;dbl&gt; |\n",
       "|---|---|---|\n",
       "| casual | January   | 1009.7752 |\n",
       "| member | January   |  616.1954 |\n",
       "| casual | February  | 1145.2507 |\n",
       "| member | February  |  638.7056 |\n",
       "| casual | March     | 1416.5704 |\n",
       "| member | March     |  707.8145 |\n",
       "| casual | April     | 1354.6937 |\n",
       "| member | April     |  696.5853 |\n",
       "| casual | May       | 1466.2668 |\n",
       "| member | May       |  798.0920 |\n",
       "| casual | June      | 1564.3321 |\n",
       "| member | June      |  848.4031 |\n",
       "| casual | July      | 1479.8097 |\n",
       "| member | July      |  827.4864 |\n",
       "| casual | August    | 1434.0054 |\n",
       "| member | August    |  813.1758 |\n",
       "| casual | September | 1396.1838 |\n",
       "| member | September |  787.8822 |\n",
       "| casual | October   | 1287.2360 |\n",
       "| member | October   |  720.8777 |\n",
       "| casual | November  | 1074.4287 |\n",
       "| member | November  |  657.0941 |\n",
       "| casual | December  | 1065.7284 |\n",
       "| member | December  |  634.8852 |\n",
       "\n"
      ],
      "text/plain": [
       "   Trips_v2$member_casual Trips_v2$month Trips_v2$ride_length\n",
       "1  casual                 January        1009.7752           \n",
       "2  member                 January         616.1954           \n",
       "3  casual                 February       1145.2507           \n",
       "4  member                 February        638.7056           \n",
       "5  casual                 March          1416.5704           \n",
       "6  member                 March           707.8145           \n",
       "7  casual                 April          1354.6937           \n",
       "8  member                 April           696.5853           \n",
       "9  casual                 May            1466.2668           \n",
       "10 member                 May             798.0920           \n",
       "11 casual                 June           1564.3321           \n",
       "12 member                 June            848.4031           \n",
       "13 casual                 July           1479.8097           \n",
       "14 member                 July            827.4864           \n",
       "15 casual                 August         1434.0054           \n",
       "16 member                 August          813.1758           \n",
       "17 casual                 September      1396.1838           \n",
       "18 member                 September       787.8822           \n",
       "19 casual                 October        1287.2360           \n",
       "20 member                 October         720.8777           \n",
       "21 casual                 November       1074.4287           \n",
       "22 member                 November        657.0941           \n",
       "23 casual                 December       1065.7284           \n",
       "24 member                 December        634.8852           "
      ]
     },
     "metadata": {},
     "output_type": "display_data"
    }
   ],
   "source": [
    "aggregate(Trips_v2$ride_length ~ Trips_v2$member_casual + Trips_v2$month, FUN = mean)"
   ]
  },
  {
   "cell_type": "markdown",
   "id": "500348ae",
   "metadata": {
    "papermill": {
     "duration": 0.015493,
     "end_time": "2022-06-29T02:48:56.003225",
     "exception": false,
     "start_time": "2022-06-29T02:48:55.987732",
     "status": "completed"
    },
    "tags": []
   },
   "source": [
    "Get means and total ride count for members and causals by day of the week"
   ]
  },
  {
   "cell_type": "code",
   "execution_count": 20,
   "id": "fcdefbcf",
   "metadata": {
    "execution": {
     "iopub.execute_input": "2022-06-29T02:48:56.036904Z",
     "iopub.status.busy": "2022-06-29T02:48:56.035176Z",
     "iopub.status.idle": "2022-06-29T02:48:58.259640Z",
     "shell.execute_reply": "2022-06-29T02:48:58.256973Z"
    },
    "papermill": {
     "duration": 2.244775,
     "end_time": "2022-06-29T02:48:58.263047",
     "exception": false,
     "start_time": "2022-06-29T02:48:56.018272",
     "status": "completed"
    },
    "tags": []
   },
   "outputs": [
    {
     "name": "stderr",
     "output_type": "stream",
     "text": [
      "\u001b[1m\u001b[22m`summarise()` has grouped output by 'member_casual'. You can override using the\n",
      "`.groups` argument.\n"
     ]
    },
    {
     "data": {
      "text/html": [
       "<table class=\"dataframe\">\n",
       "<caption>A grouped_df: 14 × 4</caption>\n",
       "<thead>\n",
       "\t<tr><th scope=col>member_casual</th><th scope=col>day_of_week</th><th scope=col>number_of_rides</th><th scope=col>average_duration</th></tr>\n",
       "\t<tr><th scope=col>&lt;chr&gt;</th><th scope=col>&lt;ord&gt;</th><th scope=col>&lt;int&gt;</th><th scope=col>&lt;dbl&gt;</th></tr>\n",
       "</thead>\n",
       "<tbody>\n",
       "\t<tr><td>casual</td><td>Sunday   </td><td>325441</td><td>1609.8670</td></tr>\n",
       "\t<tr><td>casual</td><td>Monday   </td><td>201857</td><td>1427.3289</td></tr>\n",
       "\t<tr><td>casual</td><td>Tuesday  </td><td>191803</td><td>1252.8928</td></tr>\n",
       "\t<tr><td>casual</td><td>Wednesday</td><td>192465</td><td>1239.2664</td></tr>\n",
       "\t<tr><td>casual</td><td>Thursday </td><td>209572</td><td>1247.8053</td></tr>\n",
       "\t<tr><td>casual</td><td>Friday   </td><td>243114</td><td>1330.5341</td></tr>\n",
       "\t<tr><td>casual</td><td>Saturday </td><td>381334</td><td>1555.2847</td></tr>\n",
       "\t<tr><td>member</td><td>Sunday   </td><td>314098</td><td> 867.1001</td></tr>\n",
       "\t<tr><td>member</td><td>Monday   </td><td>375438</td><td> 736.6089</td></tr>\n",
       "\t<tr><td>member</td><td>Tuesday  </td><td>424906</td><td> 711.8735</td></tr>\n",
       "\t<tr><td>member</td><td>Wednesday</td><td>415253</td><td> 721.8303</td></tr>\n",
       "\t<tr><td>member</td><td>Thursday </td><td>403059</td><td> 724.4624</td></tr>\n",
       "\t<tr><td>member</td><td>Friday   </td><td>364194</td><td> 741.9149</td></tr>\n",
       "\t<tr><td>member</td><td>Saturday </td><td>350989</td><td> 856.5949</td></tr>\n",
       "</tbody>\n",
       "</table>\n"
      ],
      "text/latex": [
       "A grouped\\_df: 14 × 4\n",
       "\\begin{tabular}{llll}\n",
       " member\\_casual & day\\_of\\_week & number\\_of\\_rides & average\\_duration\\\\\n",
       " <chr> & <ord> & <int> & <dbl>\\\\\n",
       "\\hline\n",
       "\t casual & Sunday    & 325441 & 1609.8670\\\\\n",
       "\t casual & Monday    & 201857 & 1427.3289\\\\\n",
       "\t casual & Tuesday   & 191803 & 1252.8928\\\\\n",
       "\t casual & Wednesday & 192465 & 1239.2664\\\\\n",
       "\t casual & Thursday  & 209572 & 1247.8053\\\\\n",
       "\t casual & Friday    & 243114 & 1330.5341\\\\\n",
       "\t casual & Saturday  & 381334 & 1555.2847\\\\\n",
       "\t member & Sunday    & 314098 &  867.1001\\\\\n",
       "\t member & Monday    & 375438 &  736.6089\\\\\n",
       "\t member & Tuesday   & 424906 &  711.8735\\\\\n",
       "\t member & Wednesday & 415253 &  721.8303\\\\\n",
       "\t member & Thursday  & 403059 &  724.4624\\\\\n",
       "\t member & Friday    & 364194 &  741.9149\\\\\n",
       "\t member & Saturday  & 350989 &  856.5949\\\\\n",
       "\\end{tabular}\n"
      ],
      "text/markdown": [
       "\n",
       "A grouped_df: 14 × 4\n",
       "\n",
       "| member_casual &lt;chr&gt; | day_of_week &lt;ord&gt; | number_of_rides &lt;int&gt; | average_duration &lt;dbl&gt; |\n",
       "|---|---|---|---|\n",
       "| casual | Sunday    | 325441 | 1609.8670 |\n",
       "| casual | Monday    | 201857 | 1427.3289 |\n",
       "| casual | Tuesday   | 191803 | 1252.8928 |\n",
       "| casual | Wednesday | 192465 | 1239.2664 |\n",
       "| casual | Thursday  | 209572 | 1247.8053 |\n",
       "| casual | Friday    | 243114 | 1330.5341 |\n",
       "| casual | Saturday  | 381334 | 1555.2847 |\n",
       "| member | Sunday    | 314098 |  867.1001 |\n",
       "| member | Monday    | 375438 |  736.6089 |\n",
       "| member | Tuesday   | 424906 |  711.8735 |\n",
       "| member | Wednesday | 415253 |  721.8303 |\n",
       "| member | Thursday  | 403059 |  724.4624 |\n",
       "| member | Friday    | 364194 |  741.9149 |\n",
       "| member | Saturday  | 350989 |  856.5949 |\n",
       "\n"
      ],
      "text/plain": [
       "   member_casual day_of_week number_of_rides average_duration\n",
       "1  casual        Sunday      325441          1609.8670       \n",
       "2  casual        Monday      201857          1427.3289       \n",
       "3  casual        Tuesday     191803          1252.8928       \n",
       "4  casual        Wednesday   192465          1239.2664       \n",
       "5  casual        Thursday    209572          1247.8053       \n",
       "6  casual        Friday      243114          1330.5341       \n",
       "7  casual        Saturday    381334          1555.2847       \n",
       "8  member        Sunday      314098           867.1001       \n",
       "9  member        Monday      375438           736.6089       \n",
       "10 member        Tuesday     424906           711.8735       \n",
       "11 member        Wednesday   415253           721.8303       \n",
       "12 member        Thursday    403059           724.4624       \n",
       "13 member        Friday      364194           741.9149       \n",
       "14 member        Saturday    350989           856.5949       "
      ]
     },
     "metadata": {},
     "output_type": "display_data"
    }
   ],
   "source": [
    "Trips_v2 %>% \n",
    "  group_by(member_casual, day_of_week) %>%  #groups by member type and weekday\n",
    "  summarise(number_of_rides = n() #calculates the number of rides \n",
    "            ,average_duration = mean(ride_length)) %>% # calculates the average duration\n",
    "  arrange(member_casual, day_of_week)\t# sorts"
   ]
  },
  {
   "cell_type": "markdown",
   "id": "e1a85548",
   "metadata": {
    "papermill": {
     "duration": 0.014909,
     "end_time": "2022-06-29T02:48:58.293081",
     "exception": false,
     "start_time": "2022-06-29T02:48:58.278172",
     "status": "completed"
    },
    "tags": []
   },
   "source": [
    "Do the same but for month"
   ]
  },
  {
   "cell_type": "code",
   "execution_count": 21,
   "id": "9f436129",
   "metadata": {
    "execution": {
     "iopub.execute_input": "2022-06-29T02:48:58.327119Z",
     "iopub.status.busy": "2022-06-29T02:48:58.325309Z",
     "iopub.status.idle": "2022-06-29T02:48:58.581327Z",
     "shell.execute_reply": "2022-06-29T02:48:58.579274Z"
    },
    "papermill": {
     "duration": 0.275921,
     "end_time": "2022-06-29T02:48:58.583878",
     "exception": false,
     "start_time": "2022-06-29T02:48:58.307957",
     "status": "completed"
    },
    "tags": []
   },
   "outputs": [
    {
     "name": "stderr",
     "output_type": "stream",
     "text": [
      "\u001b[1m\u001b[22m`summarise()` has grouped output by 'member_casual'. You can override using the\n",
      "`.groups` argument.\n"
     ]
    },
    {
     "data": {
      "text/html": [
       "<table class=\"dataframe\">\n",
       "<caption>A grouped_df: 24 × 4</caption>\n",
       "<thead>\n",
       "\t<tr><th scope=col>member_casual</th><th scope=col>month</th><th scope=col>number_of_rides</th><th scope=col>average_duration</th></tr>\n",
       "\t<tr><th scope=col>&lt;chr&gt;</th><th scope=col>&lt;ord&gt;</th><th scope=col>&lt;int&gt;</th><th scope=col>&lt;dbl&gt;</th></tr>\n",
       "</thead>\n",
       "<tbody>\n",
       "\t<tr><td>casual</td><td>January  </td><td> 11662</td><td>1009.7752</td></tr>\n",
       "\t<tr><td>casual</td><td>February </td><td> 13799</td><td>1145.2507</td></tr>\n",
       "\t<tr><td>casual</td><td>March    </td><td> 58929</td><td>1416.5704</td></tr>\n",
       "\t<tr><td>casual</td><td>April    </td><td> 79909</td><td>1354.6937</td></tr>\n",
       "\t<tr><td>casual</td><td>May      </td><td>194112</td><td>1466.2668</td></tr>\n",
       "\t<tr><td>casual</td><td>June     </td><td>252469</td><td>1564.3321</td></tr>\n",
       "\t<tr><td>casual</td><td>July     </td><td>311703</td><td>1479.8097</td></tr>\n",
       "\t<tr><td>casual</td><td>August   </td><td>296398</td><td>1434.0054</td></tr>\n",
       "\t<tr><td>casual</td><td>September</td><td>257583</td><td>1396.1838</td></tr>\n",
       "\t<tr><td>casual</td><td>October  </td><td>166426</td><td>1287.2360</td></tr>\n",
       "\t<tr><td>casual</td><td>November </td><td> 62398</td><td>1074.4287</td></tr>\n",
       "\t<tr><td>casual</td><td>December </td><td> 40198</td><td>1065.7284</td></tr>\n",
       "\t<tr><td>member</td><td>January  </td><td> 67523</td><td> 616.1954</td></tr>\n",
       "\t<tr><td>member</td><td>February </td><td> 74031</td><td> 638.7056</td></tr>\n",
       "\t<tr><td>member</td><td>March    </td><td>148821</td><td> 707.8145</td></tr>\n",
       "\t<tr><td>member</td><td>April    </td><td>180657</td><td> 696.5853</td></tr>\n",
       "\t<tr><td>member</td><td>May      </td><td>282284</td><td> 798.0920</td></tr>\n",
       "\t<tr><td>member</td><td>June     </td><td>304579</td><td> 848.4031</td></tr>\n",
       "\t<tr><td>member</td><td>July     </td><td>322892</td><td> 827.4864</td></tr>\n",
       "\t<tr><td>member</td><td>August   </td><td>332914</td><td> 813.1758</td></tr>\n",
       "\t<tr><td>member</td><td>September</td><td>328183</td><td> 787.8822</td></tr>\n",
       "\t<tr><td>member</td><td>October  </td><td>288851</td><td> 720.8777</td></tr>\n",
       "\t<tr><td>member</td><td>November </td><td>185909</td><td> 657.0941</td></tr>\n",
       "\t<tr><td>member</td><td>December </td><td>131293</td><td> 634.8852</td></tr>\n",
       "</tbody>\n",
       "</table>\n"
      ],
      "text/latex": [
       "A grouped\\_df: 24 × 4\n",
       "\\begin{tabular}{llll}\n",
       " member\\_casual & month & number\\_of\\_rides & average\\_duration\\\\\n",
       " <chr> & <ord> & <int> & <dbl>\\\\\n",
       "\\hline\n",
       "\t casual & January   &  11662 & 1009.7752\\\\\n",
       "\t casual & February  &  13799 & 1145.2507\\\\\n",
       "\t casual & March     &  58929 & 1416.5704\\\\\n",
       "\t casual & April     &  79909 & 1354.6937\\\\\n",
       "\t casual & May       & 194112 & 1466.2668\\\\\n",
       "\t casual & June      & 252469 & 1564.3321\\\\\n",
       "\t casual & July      & 311703 & 1479.8097\\\\\n",
       "\t casual & August    & 296398 & 1434.0054\\\\\n",
       "\t casual & September & 257583 & 1396.1838\\\\\n",
       "\t casual & October   & 166426 & 1287.2360\\\\\n",
       "\t casual & November  &  62398 & 1074.4287\\\\\n",
       "\t casual & December  &  40198 & 1065.7284\\\\\n",
       "\t member & January   &  67523 &  616.1954\\\\\n",
       "\t member & February  &  74031 &  638.7056\\\\\n",
       "\t member & March     & 148821 &  707.8145\\\\\n",
       "\t member & April     & 180657 &  696.5853\\\\\n",
       "\t member & May       & 282284 &  798.0920\\\\\n",
       "\t member & June      & 304579 &  848.4031\\\\\n",
       "\t member & July      & 322892 &  827.4864\\\\\n",
       "\t member & August    & 332914 &  813.1758\\\\\n",
       "\t member & September & 328183 &  787.8822\\\\\n",
       "\t member & October   & 288851 &  720.8777\\\\\n",
       "\t member & November  & 185909 &  657.0941\\\\\n",
       "\t member & December  & 131293 &  634.8852\\\\\n",
       "\\end{tabular}\n"
      ],
      "text/markdown": [
       "\n",
       "A grouped_df: 24 × 4\n",
       "\n",
       "| member_casual &lt;chr&gt; | month &lt;ord&gt; | number_of_rides &lt;int&gt; | average_duration &lt;dbl&gt; |\n",
       "|---|---|---|---|\n",
       "| casual | January   |  11662 | 1009.7752 |\n",
       "| casual | February  |  13799 | 1145.2507 |\n",
       "| casual | March     |  58929 | 1416.5704 |\n",
       "| casual | April     |  79909 | 1354.6937 |\n",
       "| casual | May       | 194112 | 1466.2668 |\n",
       "| casual | June      | 252469 | 1564.3321 |\n",
       "| casual | July      | 311703 | 1479.8097 |\n",
       "| casual | August    | 296398 | 1434.0054 |\n",
       "| casual | September | 257583 | 1396.1838 |\n",
       "| casual | October   | 166426 | 1287.2360 |\n",
       "| casual | November  |  62398 | 1074.4287 |\n",
       "| casual | December  |  40198 | 1065.7284 |\n",
       "| member | January   |  67523 |  616.1954 |\n",
       "| member | February  |  74031 |  638.7056 |\n",
       "| member | March     | 148821 |  707.8145 |\n",
       "| member | April     | 180657 |  696.5853 |\n",
       "| member | May       | 282284 |  798.0920 |\n",
       "| member | June      | 304579 |  848.4031 |\n",
       "| member | July      | 322892 |  827.4864 |\n",
       "| member | August    | 332914 |  813.1758 |\n",
       "| member | September | 328183 |  787.8822 |\n",
       "| member | October   | 288851 |  720.8777 |\n",
       "| member | November  | 185909 |  657.0941 |\n",
       "| member | December  | 131293 |  634.8852 |\n",
       "\n"
      ],
      "text/plain": [
       "   member_casual month     number_of_rides average_duration\n",
       "1  casual        January    11662          1009.7752       \n",
       "2  casual        February   13799          1145.2507       \n",
       "3  casual        March      58929          1416.5704       \n",
       "4  casual        April      79909          1354.6937       \n",
       "5  casual        May       194112          1466.2668       \n",
       "6  casual        June      252469          1564.3321       \n",
       "7  casual        July      311703          1479.8097       \n",
       "8  casual        August    296398          1434.0054       \n",
       "9  casual        September 257583          1396.1838       \n",
       "10 casual        October   166426          1287.2360       \n",
       "11 casual        November   62398          1074.4287       \n",
       "12 casual        December   40198          1065.7284       \n",
       "13 member        January    67523           616.1954       \n",
       "14 member        February   74031           638.7056       \n",
       "15 member        March     148821           707.8145       \n",
       "16 member        April     180657           696.5853       \n",
       "17 member        May       282284           798.0920       \n",
       "18 member        June      304579           848.4031       \n",
       "19 member        July      322892           827.4864       \n",
       "20 member        August    332914           813.1758       \n",
       "21 member        September 328183           787.8822       \n",
       "22 member        October   288851           720.8777       \n",
       "23 member        November  185909           657.0941       \n",
       "24 member        December  131293           634.8852       "
      ]
     },
     "metadata": {},
     "output_type": "display_data"
    }
   ],
   "source": [
    "Trips_v2 %>% \n",
    "  group_by(member_casual, month) %>%  #groups by member type and month\n",
    "  summarise(number_of_rides = n() #calculates the number of rides \n",
    "            ,average_duration = mean(ride_length)) %>% # calculates the average duration\n",
    "  arrange(member_casual, month)\t# sorts"
   ]
  },
  {
   "cell_type": "markdown",
   "id": "15a2db8a",
   "metadata": {
    "papermill": {
     "duration": 0.015339,
     "end_time": "2022-06-29T02:48:58.614695",
     "exception": false,
     "start_time": "2022-06-29T02:48:58.599356",
     "status": "completed"
    },
    "tags": []
   },
   "source": [
    "Create counts of causal riders that used classic bikes or electric"
   ]
  },
  {
   "cell_type": "code",
   "execution_count": 22,
   "id": "d776740f",
   "metadata": {
    "execution": {
     "iopub.execute_input": "2022-06-29T02:48:58.648926Z",
     "iopub.status.busy": "2022-06-29T02:48:58.647185Z",
     "iopub.status.idle": "2022-06-29T02:48:59.388761Z",
     "shell.execute_reply": "2022-06-29T02:48:59.386782Z"
    },
    "papermill": {
     "duration": 0.761405,
     "end_time": "2022-06-29T02:48:59.391393",
     "exception": false,
     "start_time": "2022-06-29T02:48:58.629988",
     "status": "completed"
    },
    "tags": []
   },
   "outputs": [
    {
     "data": {
      "text/html": [
       "1231669"
      ],
      "text/latex": [
       "1231669"
      ],
      "text/markdown": [
       "1231669"
      ],
      "text/plain": [
       "[1] 1231669"
      ]
     },
     "metadata": {},
     "output_type": "display_data"
    },
    {
     "data": {
      "text/html": [
       "513917"
      ],
      "text/latex": [
       "513917"
      ],
      "text/markdown": [
       "513917"
      ],
      "text/plain": [
       "[1] 513917"
      ]
     },
     "metadata": {},
     "output_type": "display_data"
    }
   ],
   "source": [
    "classic_casual <- NROW(filter(Trips_v2, member_casual == \"casual\" & (rideable_type == \"classic_bike\")))\n",
    "classic_casual\n",
    "\n",
    "electric_casual <- NROW(filter(Trips_v2, member_casual == \"casual\" & (rideable_type == \"electric_bike\")))\n",
    "electric_casual"
   ]
  },
  {
   "cell_type": "markdown",
   "id": "556a8a42",
   "metadata": {
    "papermill": {
     "duration": 0.016004,
     "end_time": "2022-06-29T02:48:59.423103",
     "exception": false,
     "start_time": "2022-06-29T02:48:59.407099",
     "status": "completed"
    },
    "tags": []
   },
   "source": [
    "Find the percent of casual riders that use classic bikes vs electric"
   ]
  },
  {
   "cell_type": "code",
   "execution_count": 23,
   "id": "6ce754e3",
   "metadata": {
    "execution": {
     "iopub.execute_input": "2022-06-29T02:48:59.458934Z",
     "iopub.status.busy": "2022-06-29T02:48:59.457015Z",
     "iopub.status.idle": "2022-06-29T02:48:59.488303Z",
     "shell.execute_reply": "2022-06-29T02:48:59.486257Z"
    },
    "papermill": {
     "duration": 0.052453,
     "end_time": "2022-06-29T02:48:59.491241",
     "exception": false,
     "start_time": "2022-06-29T02:48:59.438788",
     "status": "completed"
    },
    "tags": []
   },
   "outputs": [
    {
     "data": {
      "text/html": [
       "<style>\n",
       ".list-inline {list-style: none; margin:0; padding: 0}\n",
       ".list-inline>li {display: inline-block}\n",
       ".list-inline>li:not(:last-child)::after {content: \"\\00b7\"; padding: 0 .5ex}\n",
       "</style>\n",
       "<ol class=list-inline><li>'Electric 29.44%'</li><li>'Classic 70.56%'</li></ol>\n"
      ],
      "text/latex": [
       "\\begin{enumerate*}\n",
       "\\item 'Electric 29.44\\%'\n",
       "\\item 'Classic 70.56\\%'\n",
       "\\end{enumerate*}\n"
      ],
      "text/markdown": [
       "1. 'Electric 29.44%'\n",
       "2. 'Classic 70.56%'\n",
       "\n",
       "\n"
      ],
      "text/plain": [
       "[1] \"Electric 29.44%\" \"Classic 70.56%\" "
      ]
     },
     "metadata": {},
     "output_type": "display_data"
    }
   ],
   "source": [
    "bikes <- c(\"Electric\", \"Classic\")\n",
    "bikes_casual_total <- c(electric_casual, classic_casual)\n",
    "percent <- round(100* bikes_casual_total / sum(bikes_casual_total), 2)\n",
    "bike_total <- paste(bikes, percent)\n",
    "bike_total_casual <- paste(bike_total, \"%\", sep=\"\")\n",
    "\n",
    "bike_total_casual"
   ]
  },
  {
   "cell_type": "markdown",
   "id": "efbf4a73",
   "metadata": {
    "papermill": {
     "duration": 0.016342,
     "end_time": "2022-06-29T02:48:59.523492",
     "exception": false,
     "start_time": "2022-06-29T02:48:59.507150",
     "status": "completed"
    },
    "tags": []
   },
   "source": [
    "Create counts of member riders that used classic bikes or electric"
   ]
  },
  {
   "cell_type": "code",
   "execution_count": 24,
   "id": "0bf865f8",
   "metadata": {
    "execution": {
     "iopub.execute_input": "2022-06-29T02:48:59.559633Z",
     "iopub.status.busy": "2022-06-29T02:48:59.557800Z",
     "iopub.status.idle": "2022-06-29T02:49:00.620126Z",
     "shell.execute_reply": "2022-06-29T02:49:00.618145Z"
    },
    "papermill": {
     "duration": 1.083494,
     "end_time": "2022-06-29T02:49:00.622651",
     "exception": false,
     "start_time": "2022-06-29T02:48:59.539157",
     "status": "completed"
    },
    "tags": []
   },
   "outputs": [
    {
     "data": {
      "text/html": [
       "1977831"
      ],
      "text/latex": [
       "1977831"
      ],
      "text/markdown": [
       "1977831"
      ],
      "text/plain": [
       "[1] 1977831"
      ]
     },
     "metadata": {},
     "output_type": "display_data"
    },
    {
     "data": {
      "text/html": [
       "670106"
      ],
      "text/latex": [
       "670106"
      ],
      "text/markdown": [
       "670106"
      ],
      "text/plain": [
       "[1] 670106"
      ]
     },
     "metadata": {},
     "output_type": "display_data"
    }
   ],
   "source": [
    "classic_member <- NROW(filter(Trips_v2, member_casual == \"member\" & (rideable_type == \"classic_bike\")))\n",
    "classic_member\n",
    "\n",
    "electric_member <- NROW(filter(Trips_v2, member_casual == \"member\" & (rideable_type == \"electric_bike\")))\n",
    "electric_member"
   ]
  },
  {
   "cell_type": "markdown",
   "id": "6e7724cd",
   "metadata": {
    "papermill": {
     "duration": 0.01626,
     "end_time": "2022-06-29T02:49:00.655029",
     "exception": false,
     "start_time": "2022-06-29T02:49:00.638769",
     "status": "completed"
    },
    "tags": []
   },
   "source": [
    "Find the percent of member riders that use classic bikes vs electric"
   ]
  },
  {
   "cell_type": "code",
   "execution_count": 25,
   "id": "df949a4b",
   "metadata": {
    "execution": {
     "iopub.execute_input": "2022-06-29T02:49:00.691255Z",
     "iopub.status.busy": "2022-06-29T02:49:00.689212Z",
     "iopub.status.idle": "2022-06-29T02:49:00.723833Z",
     "shell.execute_reply": "2022-06-29T02:49:00.721426Z"
    },
    "papermill": {
     "duration": 0.056622,
     "end_time": "2022-06-29T02:49:00.727185",
     "exception": false,
     "start_time": "2022-06-29T02:49:00.670563",
     "status": "completed"
    },
    "tags": []
   },
   "outputs": [
    {
     "data": {
      "text/html": [
       "<style>\n",
       ".list-inline {list-style: none; margin:0; padding: 0}\n",
       ".list-inline>li {display: inline-block}\n",
       ".list-inline>li:not(:last-child)::after {content: \"\\00b7\"; padding: 0 .5ex}\n",
       "</style>\n",
       "<ol class=list-inline><li>'Electric 25.31%'</li><li>'Classic 74.69%'</li></ol>\n"
      ],
      "text/latex": [
       "\\begin{enumerate*}\n",
       "\\item 'Electric 25.31\\%'\n",
       "\\item 'Classic 74.69\\%'\n",
       "\\end{enumerate*}\n"
      ],
      "text/markdown": [
       "1. 'Electric 25.31%'\n",
       "2. 'Classic 74.69%'\n",
       "\n",
       "\n"
      ],
      "text/plain": [
       "[1] \"Electric 25.31%\" \"Classic 74.69%\" "
      ]
     },
     "metadata": {},
     "output_type": "display_data"
    }
   ],
   "source": [
    "bikes <- c(\"Electric\", \"Classic\")\n",
    "bikes_member_total <- c(electric_member, classic_member)\n",
    "percent <- round(100* bikes_member_total / sum(bikes_member_total), 2)\n",
    "bike_total <- paste(bikes, percent)\n",
    "bike_total_member <- paste(bike_total, \"%\", sep=\"\")\n",
    "\n",
    "bike_total_member"
   ]
  },
  {
   "cell_type": "markdown",
   "id": "d34026a6",
   "metadata": {
    "papermill": {
     "duration": 0.01618,
     "end_time": "2022-06-29T02:49:00.760892",
     "exception": false,
     "start_time": "2022-06-29T02:49:00.744712",
     "status": "completed"
    },
    "tags": []
   },
   "source": [
    "Create counts of casual riders that used bikes on the weekdays vs weekends"
   ]
  },
  {
   "cell_type": "code",
   "execution_count": 26,
   "id": "6fdecb91",
   "metadata": {
    "execution": {
     "iopub.execute_input": "2022-06-29T02:49:00.797312Z",
     "iopub.status.busy": "2022-06-29T02:49:00.795050Z",
     "iopub.status.idle": "2022-06-29T02:49:02.177412Z",
     "shell.execute_reply": "2022-06-29T02:49:02.175304Z"
    },
    "papermill": {
     "duration": 1.403427,
     "end_time": "2022-06-29T02:49:02.180115",
     "exception": false,
     "start_time": "2022-06-29T02:49:00.776688",
     "status": "completed"
    },
    "tags": []
   },
   "outputs": [
    {
     "data": {
      "text/html": [
       "706775"
      ],
      "text/latex": [
       "706775"
      ],
      "text/markdown": [
       "706775"
      ],
      "text/plain": [
       "[1] 706775"
      ]
     },
     "metadata": {},
     "output_type": "display_data"
    },
    {
     "data": {
      "text/html": [
       "1038811"
      ],
      "text/latex": [
       "1038811"
      ],
      "text/markdown": [
       "1038811"
      ],
      "text/plain": [
       "[1] 1038811"
      ]
     },
     "metadata": {},
     "output_type": "display_data"
    }
   ],
   "source": [
    "weekend_casual <- NROW(filter(Trips_v2, member_casual == \"casual\" & (day_of_week == \"Saturday\" | day_of_week == \"Sunday\")))\n",
    "weekend_casual\n",
    "\n",
    "weekday_casual <- NROW(filter(Trips_v2, member_casual == \"casual\" & !(day_of_week == \"Saturday\" | day_of_week == \"Sunday\")))\n",
    "weekday_casual\n"
   ]
  },
  {
   "cell_type": "markdown",
   "id": "efa93391",
   "metadata": {
    "papermill": {
     "duration": 0.017307,
     "end_time": "2022-06-29T02:49:02.214102",
     "exception": false,
     "start_time": "2022-06-29T02:49:02.196795",
     "status": "completed"
    },
    "tags": []
   },
   "source": [
    "Finds the percent of rides by casual of weekday vs weekend"
   ]
  },
  {
   "cell_type": "code",
   "execution_count": 27,
   "id": "98cd96d2",
   "metadata": {
    "execution": {
     "iopub.execute_input": "2022-06-29T02:49:02.251324Z",
     "iopub.status.busy": "2022-06-29T02:49:02.249516Z",
     "iopub.status.idle": "2022-06-29T02:49:02.281419Z",
     "shell.execute_reply": "2022-06-29T02:49:02.279280Z"
    },
    "papermill": {
     "duration": 0.053498,
     "end_time": "2022-06-29T02:49:02.283913",
     "exception": false,
     "start_time": "2022-06-29T02:49:02.230415",
     "status": "completed"
    },
    "tags": []
   },
   "outputs": [
    {
     "data": {
      "text/html": [
       "<style>\n",
       ".list-inline {list-style: none; margin:0; padding: 0}\n",
       ".list-inline>li {display: inline-block}\n",
       ".list-inline>li:not(:last-child)::after {content: \"\\00b7\"; padding: 0 .5ex}\n",
       "</style>\n",
       "<ol class=list-inline><li>'Weekday 59.51%'</li><li>'Weekend 40.49%'</li></ol>\n"
      ],
      "text/latex": [
       "\\begin{enumerate*}\n",
       "\\item 'Weekday 59.51\\%'\n",
       "\\item 'Weekend 40.49\\%'\n",
       "\\end{enumerate*}\n"
      ],
      "text/markdown": [
       "1. 'Weekday 59.51%'\n",
       "2. 'Weekend 40.49%'\n",
       "\n",
       "\n"
      ],
      "text/plain": [
       "[1] \"Weekday 59.51%\" \"Weekend 40.49%\""
      ]
     },
     "metadata": {},
     "output_type": "display_data"
    }
   ],
   "source": [
    "complete_week <- c(\"Weekday\", \"Weekend\")\n",
    "casual_week <- c(weekday_casual, weekend_casual)\n",
    "percent <- round(100* casual_week / sum(casual_week), 2)\n",
    "week_total <- paste(complete_week, percent)\n",
    "week_total_casual <- paste(week_total, \"%\", sep=\"\")\n",
    "\n",
    "week_total_casual"
   ]
  },
  {
   "cell_type": "markdown",
   "id": "2108a027",
   "metadata": {
    "papermill": {
     "duration": 0.016819,
     "end_time": "2022-06-29T02:49:02.317846",
     "exception": false,
     "start_time": "2022-06-29T02:49:02.301027",
     "status": "completed"
    },
    "tags": []
   },
   "source": [
    "Create counts of member riders that used bikes on weekends vs weekdays"
   ]
  },
  {
   "cell_type": "code",
   "execution_count": 28,
   "id": "478d8119",
   "metadata": {
    "execution": {
     "iopub.execute_input": "2022-06-29T02:49:02.355738Z",
     "iopub.status.busy": "2022-06-29T02:49:02.353743Z",
     "iopub.status.idle": "2022-06-29T02:49:03.228127Z",
     "shell.execute_reply": "2022-06-29T02:49:03.226137Z"
    },
    "papermill": {
     "duration": 0.89616,
     "end_time": "2022-06-29T02:49:03.230617",
     "exception": false,
     "start_time": "2022-06-29T02:49:02.334457",
     "status": "completed"
    },
    "tags": []
   },
   "outputs": [
    {
     "data": {
      "text/html": [
       "665087"
      ],
      "text/latex": [
       "665087"
      ],
      "text/markdown": [
       "665087"
      ],
      "text/plain": [
       "[1] 665087"
      ]
     },
     "metadata": {},
     "output_type": "display_data"
    },
    {
     "data": {
      "text/html": [
       "1982850"
      ],
      "text/latex": [
       "1982850"
      ],
      "text/markdown": [
       "1982850"
      ],
      "text/plain": [
       "[1] 1982850"
      ]
     },
     "metadata": {},
     "output_type": "display_data"
    }
   ],
   "source": [
    "weekend_member <- NROW(filter(Trips_v2, member_casual == \"member\" & (day_of_week == \"Saturday\" | day_of_week == \"Sunday\")))\n",
    "weekend_member\n",
    "\n",
    "weekday_member <- NROW(filter(Trips_v2, member_casual == \"member\" & !(day_of_week == \"Saturday\" | day_of_week == \"Sunday\")))\n",
    "weekday_member"
   ]
  },
  {
   "cell_type": "markdown",
   "id": "97292fee",
   "metadata": {
    "papermill": {
     "duration": 0.016508,
     "end_time": "2022-06-29T02:49:03.263584",
     "exception": false,
     "start_time": "2022-06-29T02:49:03.247076",
     "status": "completed"
    },
    "tags": []
   },
   "source": [
    "Finds percent of members that used bikes weekdays vs weekends"
   ]
  },
  {
   "cell_type": "code",
   "execution_count": 29,
   "id": "5adcb055",
   "metadata": {
    "execution": {
     "iopub.execute_input": "2022-06-29T02:49:03.300187Z",
     "iopub.status.busy": "2022-06-29T02:49:03.298284Z",
     "iopub.status.idle": "2022-06-29T02:49:03.328906Z",
     "shell.execute_reply": "2022-06-29T02:49:03.326773Z"
    },
    "papermill": {
     "duration": 0.052451,
     "end_time": "2022-06-29T02:49:03.332401",
     "exception": false,
     "start_time": "2022-06-29T02:49:03.279950",
     "status": "completed"
    },
    "tags": []
   },
   "outputs": [
    {
     "data": {
      "text/html": [
       "<style>\n",
       ".list-inline {list-style: none; margin:0; padding: 0}\n",
       ".list-inline>li {display: inline-block}\n",
       ".list-inline>li:not(:last-child)::after {content: \"\\00b7\"; padding: 0 .5ex}\n",
       "</style>\n",
       "<ol class=list-inline><li>'Weekday 74.88%'</li><li>'Weekend 25.12%'</li></ol>\n"
      ],
      "text/latex": [
       "\\begin{enumerate*}\n",
       "\\item 'Weekday 74.88\\%'\n",
       "\\item 'Weekend 25.12\\%'\n",
       "\\end{enumerate*}\n"
      ],
      "text/markdown": [
       "1. 'Weekday 74.88%'\n",
       "2. 'Weekend 25.12%'\n",
       "\n",
       "\n"
      ],
      "text/plain": [
       "[1] \"Weekday 74.88%\" \"Weekend 25.12%\""
      ]
     },
     "metadata": {},
     "output_type": "display_data"
    }
   ],
   "source": [
    "complete_week <- c(\"Weekday\", \"Weekend\")\n",
    "member_week <- c(weekday_member, weekend_member)\n",
    "percent <- round(100* member_week / sum(member_week), 2)\n",
    "week_total <- paste(complete_week, percent)\n",
    "week_total_member <- paste(week_total, \"%\", sep=\"\")\n",
    "\n",
    "week_total_member"
   ]
  },
  {
   "cell_type": "markdown",
   "id": "8b6a301e",
   "metadata": {
    "papermill": {
     "duration": 0.016806,
     "end_time": "2022-06-29T02:49:03.365564",
     "exception": false,
     "start_time": "2022-06-29T02:49:03.348758",
     "status": "completed"
    },
    "tags": []
   },
   "source": [
    "Compares total casual riders uses of electric vs classic bikes and their average rides"
   ]
  },
  {
   "cell_type": "code",
   "execution_count": 30,
   "id": "a240cc92",
   "metadata": {
    "execution": {
     "iopub.execute_input": "2022-06-29T02:49:03.402754Z",
     "iopub.status.busy": "2022-06-29T02:49:03.400646Z",
     "iopub.status.idle": "2022-06-29T02:49:03.682126Z",
     "shell.execute_reply": "2022-06-29T02:49:03.680015Z"
    },
    "papermill": {
     "duration": 0.302676,
     "end_time": "2022-06-29T02:49:03.684664",
     "exception": false,
     "start_time": "2022-06-29T02:49:03.381988",
     "status": "completed"
    },
    "tags": []
   },
   "outputs": [
    {
     "name": "stderr",
     "output_type": "stream",
     "text": [
      "\u001b[1m\u001b[22m`summarise()` has grouped output by 'member_casual'. You can override using the\n",
      "`.groups` argument.\n"
     ]
    },
    {
     "data": {
      "text/html": [
       "<table class=\"dataframe\">\n",
       "<caption>A grouped_df: 4 × 4</caption>\n",
       "<thead>\n",
       "\t<tr><th scope=col>member_casual</th><th scope=col>rideable_type</th><th scope=col>number_of_rides</th><th scope=col>average_duration</th></tr>\n",
       "\t<tr><th scope=col>&lt;chr&gt;</th><th scope=col>&lt;chr&gt;</th><th scope=col>&lt;int&gt;</th><th scope=col>&lt;dbl&gt;</th></tr>\n",
       "</thead>\n",
       "<tbody>\n",
       "\t<tr><td>casual</td><td>classic_bike </td><td>1231669</td><td>1526.7611</td></tr>\n",
       "\t<tr><td>casual</td><td>electric_bike</td><td> 513917</td><td>1145.0336</td></tr>\n",
       "\t<tr><td>member</td><td>classic_bike </td><td>1977831</td><td> 787.2046</td></tr>\n",
       "\t<tr><td>member</td><td>electric_bike</td><td> 670106</td><td> 682.0214</td></tr>\n",
       "</tbody>\n",
       "</table>\n"
      ],
      "text/latex": [
       "A grouped\\_df: 4 × 4\n",
       "\\begin{tabular}{llll}\n",
       " member\\_casual & rideable\\_type & number\\_of\\_rides & average\\_duration\\\\\n",
       " <chr> & <chr> & <int> & <dbl>\\\\\n",
       "\\hline\n",
       "\t casual & classic\\_bike  & 1231669 & 1526.7611\\\\\n",
       "\t casual & electric\\_bike &  513917 & 1145.0336\\\\\n",
       "\t member & classic\\_bike  & 1977831 &  787.2046\\\\\n",
       "\t member & electric\\_bike &  670106 &  682.0214\\\\\n",
       "\\end{tabular}\n"
      ],
      "text/markdown": [
       "\n",
       "A grouped_df: 4 × 4\n",
       "\n",
       "| member_casual &lt;chr&gt; | rideable_type &lt;chr&gt; | number_of_rides &lt;int&gt; | average_duration &lt;dbl&gt; |\n",
       "|---|---|---|---|\n",
       "| casual | classic_bike  | 1231669 | 1526.7611 |\n",
       "| casual | electric_bike |  513917 | 1145.0336 |\n",
       "| member | classic_bike  | 1977831 |  787.2046 |\n",
       "| member | electric_bike |  670106 |  682.0214 |\n",
       "\n"
      ],
      "text/plain": [
       "  member_casual rideable_type number_of_rides average_duration\n",
       "1 casual        classic_bike  1231669         1526.7611       \n",
       "2 casual        electric_bike  513917         1145.0336       \n",
       "3 member        classic_bike  1977831          787.2046       \n",
       "4 member        electric_bike  670106          682.0214       "
      ]
     },
     "metadata": {},
     "output_type": "display_data"
    }
   ],
   "source": [
    "Trips_v2 %>%\n",
    "  group_by(member_casual,rideable_type) %>% # groups by rider type, and bike type\n",
    "  summarise(number_of_rides = n() # calculates the number of riders\n",
    "            ,average_duration = mean(ride_length)) %>% #calculates the average length\n",
    "  arrange(member_casual, rideable_type)"
   ]
  },
  {
   "cell_type": "markdown",
   "id": "b5913064",
   "metadata": {
    "papermill": {
     "duration": 0.017366,
     "end_time": "2022-06-29T02:49:03.719215",
     "exception": false,
     "start_time": "2022-06-29T02:49:03.701849",
     "status": "completed"
    },
    "tags": []
   },
   "source": [
    "### Visualize "
   ]
  },
  {
   "cell_type": "markdown",
   "id": "dc648e08",
   "metadata": {
    "papermill": {
     "duration": 0.016968,
     "end_time": "2022-06-29T02:49:03.752919",
     "exception": false,
     "start_time": "2022-06-29T02:49:03.735951",
     "status": "completed"
    },
    "tags": []
   },
   "source": [
    "Graph riders per day members vs casual"
   ]
  },
  {
   "cell_type": "code",
   "execution_count": 31,
   "id": "d1bafe61",
   "metadata": {
    "execution": {
     "iopub.execute_input": "2022-06-29T02:49:03.789715Z",
     "iopub.status.busy": "2022-06-29T02:49:03.787869Z",
     "iopub.status.idle": "2022-06-29T02:49:05.243194Z",
     "shell.execute_reply": "2022-06-29T02:49:05.239975Z"
    },
    "papermill": {
     "duration": 1.477325,
     "end_time": "2022-06-29T02:49:05.246552",
     "exception": false,
     "start_time": "2022-06-29T02:49:03.769227",
     "status": "completed"
    },
    "tags": []
   },
   "outputs": [
    {
     "name": "stderr",
     "output_type": "stream",
     "text": [
      "\u001b[1m\u001b[22m`summarise()` has grouped output by 'member_casual'. You can override using the\n",
      "`.groups` argument.\n"
     ]
    },
    {
     "data": {
      "image/png": "[encoded data removed]"
     },
     "metadata": {
      "image/png": {
       "height": 420,
       "width": 420
      }
     },
     "output_type": "display_data"
    }
   ],
   "source": [
    "Trips_v2 %>% \n",
    "  group_by(member_casual, day_of_week) %>% #groups members by type, and days of the week by day\n",
    "  summarise(number_of_rides = n() #calculates number of riders\n",
    "            ,average_duration = mean(ride_length)) %>% #calculates average ride length\n",
    "  arrange(member_casual, day_of_week)  %>% #arranges by member type, and day of the week\n",
    "  ggplot(aes(x = day_of_week, y = number_of_rides, fill = member_casual)) + #plots x as weekday and y as number of rides\n",
    "  scale_y_continuous(labels = scales::comma) +\n",
    "  geom_col(position = \"dodge\") + #uses column graph\n",
    "  labs(title = \"Riders per day\", x = \"Days of the week\", y = \"Number of riders\", fill = \"Rider Type\") # lables grap"
   ]
  },
  {
   "cell_type": "markdown",
   "id": "0a4e8043",
   "metadata": {
    "papermill": {
     "duration": 0.018583,
     "end_time": "2022-06-29T02:49:05.284401",
     "exception": false,
     "start_time": "2022-06-29T02:49:05.265818",
     "status": "completed"
    },
    "tags": []
   },
   "source": [
    "Graph Electric vs Classic bike and casual vs member"
   ]
  },
  {
   "cell_type": "code",
   "execution_count": 32,
   "id": "2c0d09ef",
   "metadata": {
    "execution": {
     "iopub.execute_input": "2022-06-29T02:49:05.324823Z",
     "iopub.status.busy": "2022-06-29T02:49:05.322875Z",
     "iopub.status.idle": "2022-06-29T02:49:05.840725Z",
     "shell.execute_reply": "2022-06-29T02:49:05.838676Z"
    },
    "papermill": {
     "duration": 0.540673,
     "end_time": "2022-06-29T02:49:05.843622",
     "exception": false,
     "start_time": "2022-06-29T02:49:05.302949",
     "status": "completed"
    },
    "tags": []
   },
   "outputs": [
    {
     "name": "stderr",
     "output_type": "stream",
     "text": [
      "\u001b[1m\u001b[22m`summarise()` has grouped output by 'member_casual'. You can override using the\n",
      "`.groups` argument.\n"
     ]
    },
    {
     "data": {
      "image/png": "[encoded data removed]"
     },
     "metadata": {
      "image/png": {
       "height": 420,
       "width": 420
      }
     },
     "output_type": "display_data"
    }
   ],
   "source": [
    "Trips_v2 %>% \n",
    "  group_by(member_casual,rideable_type) %>% # groups by rider type, and bike type\n",
    "  summarise(number_of_rides = n())%>% # counts the number of riders \n",
    "  arrange(member_casual, rideable_type) %>% #arranges by rider type and bike type\n",
    "  ggplot(aes(x = rideable_type, y = number_of_rides, fill = member_casual)) + #x = bike type, y = number of rides\n",
    "  geom_col(position = \"dodge\") +\n",
    "  labs(title = \"Number of riders per bike type\", x = \"Bike type\", y = \"Number of riders\", fill = \"Type of rider\")\n"
   ]
  },
  {
   "cell_type": "markdown",
   "id": "32e62a7e",
   "metadata": {
    "papermill": {
     "duration": 0.017888,
     "end_time": "2022-06-29T02:49:05.879356",
     "exception": false,
     "start_time": "2022-06-29T02:49:05.861468",
     "status": "completed"
    },
    "tags": []
   },
   "source": [
    "Graph rider type per month"
   ]
  },
  {
   "cell_type": "code",
   "execution_count": 33,
   "id": "70362292",
   "metadata": {
    "execution": {
     "iopub.execute_input": "2022-06-29T02:49:05.918891Z",
     "iopub.status.busy": "2022-06-29T02:49:05.916999Z",
     "iopub.status.idle": "2022-06-29T02:49:10.645949Z",
     "shell.execute_reply": "2022-06-29T02:49:10.643972Z"
    },
    "papermill": {
     "duration": 4.751701,
     "end_time": "2022-06-29T02:49:10.648697",
     "exception": false,
     "start_time": "2022-06-29T02:49:05.896996",
     "status": "completed"
    },
    "tags": []
   },
   "outputs": [
    {
     "name": "stderr",
     "output_type": "stream",
     "text": [
      "\u001b[1m\u001b[22m`summarise()` has grouped output by 'member_casual'. You can override using the\n",
      "`.groups` argument.\n"
     ]
    },
    {
     "data": {
      "image/png": "[encoded data removed]"
     },
     "metadata": {
      "image/png": {
       "height": 420,
       "width": 420
      }
     },
     "output_type": "display_data"
    }
   ],
   "source": [
    "Trips_v2 %>% \n",
    "  mutate(months = month(started_at, label = TRUE)) %>% #uses each day as a independent variable\n",
    "  group_by(member_casual, months) %>% #groups members by type, and days of the week by day\n",
    "  summarise(number_of_rides = n() #calculates number of riders\n",
    "            ,average_duration = mean(ride_length)) %>% #calculates average ride length\n",
    "  arrange(member_casual, months)  %>% #arranges by member type, and day of the week\n",
    "  ggplot(aes(x = months, y = number_of_rides, fill = member_casual)) + #plots x as weekday and y as number of rides\n",
    "  scale_y_continuous(labels = scales::comma) +\n",
    "  geom_col(position = \"dodge\") + #uses column graph\n",
    "  labs(title = \"Riders per month\", x = \"Month\", y = \"Number of rides\", fill = \" Type of rider\") # lables grap"
   ]
  },
  {
   "cell_type": "markdown",
   "id": "7bdd4f47",
   "metadata": {
    "papermill": {
     "duration": 0.020389,
     "end_time": "2022-06-29T02:49:10.687825",
     "exception": false,
     "start_time": "2022-06-29T02:49:10.667436",
     "status": "completed"
    },
    "tags": []
   },
   "source": [
    "graph average ride length per month by rider type"
   ]
  },
  {
   "cell_type": "code",
   "execution_count": 34,
   "id": "f6be1cad",
   "metadata": {
    "execution": {
     "iopub.execute_input": "2022-06-29T02:49:10.730551Z",
     "iopub.status.busy": "2022-06-29T02:49:10.728670Z",
     "iopub.status.idle": "2022-06-29T02:49:15.964138Z",
     "shell.execute_reply": "2022-06-29T02:49:15.962043Z"
    },
    "papermill": {
     "duration": 5.259628,
     "end_time": "2022-06-29T02:49:15.966921",
     "exception": false,
     "start_time": "2022-06-29T02:49:10.707293",
     "status": "completed"
    },
    "tags": []
   },
   "outputs": [
    {
     "name": "stderr",
     "output_type": "stream",
     "text": [
      "\u001b[1m\u001b[22m`summarise()` has grouped output by 'member_casual'. You can override using the\n",
      "`.groups` argument.\n"
     ]
    },
    {
     "data": {
      "image/png": "[encoded data removed]"
     },
     "metadata": {
      "image/png": {
       "height": 420,
       "width": 420
      }
     },
     "output_type": "display_data"
    }
   ],
   "source": [
    "Trips_v2 %>% \n",
    "  mutate(months = month(started_at, label = TRUE)) %>% #uses month as a separate variable\n",
    "  group_by(member_casual, months) %>% #groups by rider type and month\n",
    "  summarise(number_of_rides = n() # counts the number of riders\n",
    "            ,average_duration = mean(ride_length)) %>% #calculates the average ride length\n",
    "  arrange(member_casual, months)  %>% #arranges by rider type and month\n",
    "  ggplot(aes(x = months, y = average_duration, fill = member_casual)) + #x is month, y is average duration\n",
    "  geom_col(position = \"dodge\") + \n",
    "  labs(title = \"Average ride length per month\", x = \"Month\", y = \"Average ride length (seconds)\", fill = \"Type of rider\")\n"
   ]
  },
  {
   "cell_type": "markdown",
   "id": "3d2f501d",
   "metadata": {
    "papermill": {
     "duration": 0.019144,
     "end_time": "2022-06-29T02:49:16.005621",
     "exception": false,
     "start_time": "2022-06-29T02:49:15.986477",
     "status": "completed"
    },
    "tags": []
   },
   "source": [
    "Graph casual riders electric vs classic bike use as a pie chart"
   ]
  },
  {
   "cell_type": "code",
   "execution_count": 35,
   "id": "270bb206",
   "metadata": {
    "execution": {
     "iopub.execute_input": "2022-06-29T02:49:16.050176Z",
     "iopub.status.busy": "2022-06-29T02:49:16.048364Z",
     "iopub.status.idle": "2022-06-29T02:49:16.150581Z",
     "shell.execute_reply": "2022-06-29T02:49:16.148538Z"
    },
    "papermill": {
     "duration": 0.12801,
     "end_time": "2022-06-29T02:49:16.153564",
     "exception": false,
     "start_time": "2022-06-29T02:49:16.025554",
     "status": "completed"
    },
    "tags": []
   },
   "outputs": [
    {
     "data": {
      "image/png": "[encoded data removed]"
     },
     "metadata": {
      "image/png": {
       "height": 420,
       "width": 420
      }
     },
     "output_type": "display_data"
    }
   ],
   "source": [
    "pie(bikes_casual_total, labels = bike_total_casual, col = c(\"blue\", \"green\"), main = \"Casual Riders Electric vs Classic bike use\")"
   ]
  },
  {
   "cell_type": "markdown",
   "id": "dbb51715",
   "metadata": {
    "papermill": {
     "duration": 0.032026,
     "end_time": "2022-06-29T02:49:16.206922",
     "exception": false,
     "start_time": "2022-06-29T02:49:16.174896",
     "status": "completed"
    },
    "tags": []
   },
   "source": [
    "Graph mebers electric vs classic bike use"
   ]
  },
  {
   "cell_type": "code",
   "execution_count": 36,
   "id": "57dfcba7",
   "metadata": {
    "execution": {
     "iopub.execute_input": "2022-06-29T02:49:16.264219Z",
     "iopub.status.busy": "2022-06-29T02:49:16.262121Z",
     "iopub.status.idle": "2022-06-29T02:49:16.347639Z",
     "shell.execute_reply": "2022-06-29T02:49:16.344288Z"
    },
    "papermill": {
     "duration": 0.121914,
     "end_time": "2022-06-29T02:49:16.350733",
     "exception": false,
     "start_time": "2022-06-29T02:49:16.228819",
     "status": "completed"
    },
    "tags": []
   },
   "outputs": [
    {
     "data": {
      "image/png": "[encoded data removed]"
     },
     "metadata": {
      "image/png": {
       "height": 420,
       "width": 420
      }
     },
     "output_type": "display_data"
    }
   ],
   "source": [
    "pie(bikes_member_total, labels = bike_total_member, col = c(\"blue\", \"green\"), main = \"Member Riders Electric vs Classic bike use\")"
   ]
  },
  {
   "cell_type": "markdown",
   "id": "affc8c32",
   "metadata": {
    "papermill": {
     "duration": 0.020709,
     "end_time": "2022-06-29T02:49:16.391781",
     "exception": false,
     "start_time": "2022-06-29T02:49:16.371072",
     "status": "completed"
    },
    "tags": []
   },
   "source": [
    "Graph casual riders weekday vs weekend as a pie chart"
   ]
  },
  {
   "cell_type": "code",
   "execution_count": 37,
   "id": "45845523",
   "metadata": {
    "execution": {
     "iopub.execute_input": "2022-06-29T02:49:16.436178Z",
     "iopub.status.busy": "2022-06-29T02:49:16.434106Z",
     "iopub.status.idle": "2022-06-29T02:49:16.519759Z",
     "shell.execute_reply": "2022-06-29T02:49:16.516309Z"
    },
    "papermill": {
     "duration": 0.111019,
     "end_time": "2022-06-29T02:49:16.522795",
     "exception": false,
     "start_time": "2022-06-29T02:49:16.411776",
     "status": "completed"
    },
    "tags": []
   },
   "outputs": [
    {
     "data": {
      "image/png": "[encoded data removed]"
     },
     "metadata": {
      "image/png": {
       "height": 420,
       "width": 420
      }
     },
     "output_type": "display_data"
    }
   ],
   "source": [
    "pie(casual_week, labels = week_total_casual, col = c(\"blue\", \"green\"), main = \"Casual Riders Weekday vs Weekend use\")"
   ]
  },
  {
   "cell_type": "markdown",
   "id": "3d4bd324",
   "metadata": {
    "papermill": {
     "duration": 0.021507,
     "end_time": "2022-06-29T02:49:16.565723",
     "exception": false,
     "start_time": "2022-06-29T02:49:16.544216",
     "status": "completed"
    },
    "tags": []
   },
   "source": [
    "Graph member weekend and weekday bike use as a pie chart"
   ]
  },
  {
   "cell_type": "code",
   "execution_count": 38,
   "id": "0e25d0b1",
   "metadata": {
    "execution": {
     "iopub.execute_input": "2022-06-29T02:49:16.612918Z",
     "iopub.status.busy": "2022-06-29T02:49:16.610873Z",
     "iopub.status.idle": "2022-06-29T02:49:16.696030Z",
     "shell.execute_reply": "2022-06-29T02:49:16.692571Z"
    },
    "papermill": {
     "duration": 0.11186,
     "end_time": "2022-06-29T02:49:16.699112",
     "exception": false,
     "start_time": "2022-06-29T02:49:16.587252",
     "status": "completed"
    },
    "tags": []
   },
   "outputs": [
    {
     "data": {
      "image/png": "[encoded data removed]"
     },
     "metadata": {
      "image/png": {
       "height": 420,
       "width": 420
      }
     },
     "output_type": "display_data"
    }
   ],
   "source": [
    "pie(casual_week, labels = week_total_member, col = c(\"blue\", \"green\"), main = \"Member Riders Weekday vs Weekend use\")"
   ]
  }
 ],
 "metadata": {
  "kernelspec": {
   "display_name": "R",
   "language": "R",
   "name": "ir"
  },
  "language_info": {
   "codemirror_mode": "r",
   "file_extension": ".r",
   "mimetype": "text/x-r-source",
   "name": "R",
   "pygments_lexer": "r",
   "version": "4.0.5"
  },
  "papermill": {
   "default_parameters": {},
   "duration": 134.12845,
   "end_time": "2022-06-29T02:49:17.046432",
   "environment_variables": {},
   "exception": null,
   "input_path": "__notebook__.ipynb",
   "output_path": "__notebook__.ipynb",
   "parameters": {},
   "start_time": "2022-06-29T02:47:02.917982",
   "version": "2.3.4"
  }
 },
 "nbformat": 4,
 "nbformat_minor": 5
}
